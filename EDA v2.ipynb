{
 "cells": [
  {
   "cell_type": "markdown",
   "id": "ff33a880-c0ea-42dc-afe0-c855e770819a",
   "metadata": {},
   "source": [
    "# Introduction\n",
    "\n",
    "_5/7/2023_\n",
    "\n",
    "**Prepared by:** Danial Azmi\n",
    "\n",
    "---\n",
    "\n",
    "**Problem Statement**\n",
    "\n",
    "The goal of the predictive model is to predict household income (HHI) based on the given dataset. Once the model is trained, it can be used to make predictions on new data by feeding in the relevant features and generating an output prediction for the HHI.\n",
    "\n",
    "The overall goal of this machine learning model is to provide a tool for predicting HHI, which can have a wide range of applications in various fields such as economics, social science, public policy, and marketing research.\n",
    "\n",
    "> I'll try to include some explanations on what my thought process was when doing this whole project. I had quite a tight time constraint to finish this due to a recent holiday where I decided to rest from any kind of work. I wish I had more time to answer all the questions I had for the project but maybe they'll be answered in a later effort on the project.\n",
    "\n",
    "> In the middle parts I'll include all the questions that came to my mind, and all the assumptions that I made. I'll summarize everything at the end of the notebook to have a retrospective view on the analysis done."
   ]
  },
  {
   "cell_type": "code",
   "execution_count": null,
   "id": "173fcd5a-2d07-4ffd-a8c0-43e76d5a69e6",
   "metadata": {},
   "outputs": [],
   "source": []
  },
  {
   "cell_type": "code",
   "execution_count": null,
   "id": "a2732b73-68a8-4476-9bb2-8836e9b4421e",
   "metadata": {},
   "outputs": [],
   "source": []
  },
  {
   "cell_type": "code",
   "execution_count": null,
   "id": "f71f7d98-11c6-4128-a500-f15dc926c966",
   "metadata": {},
   "outputs": [],
   "source": []
  },
  {
   "cell_type": "markdown",
   "id": "bd0dd64a-13c7-4089-8a56-3bb2d8637ca8",
   "metadata": {},
   "source": [
    "# Preliminaries"
   ]
  },
  {
   "cell_type": "markdown",
   "id": "070fba30-485f-4e9e-b088-6d2ce82ac95a",
   "metadata": {},
   "source": [
    "Here I just do all the imports and ensure the data is loaded properly"
   ]
  },
  {
   "cell_type": "code",
   "execution_count": 1,
   "id": "3031a931-1d68-4d2e-ba06-1f3497afedf1",
   "metadata": {},
   "outputs": [],
   "source": [
    "import pandas as pd\n",
    "import numpy as np\n",
    "import matplotlib.pyplot as plt\n",
    "import re\n",
    "\n",
    "from seaborn import heatmap\n",
    "\n",
    "from sklearn.preprocessing import LabelEncoder, OneHotEncoder"
   ]
  },
  {
   "cell_type": "code",
   "execution_count": 2,
   "id": "8a78e407-742f-4cce-ae30-71e0aa5f9f30",
   "metadata": {},
   "outputs": [],
   "source": [
    "pd.options.display.float_format = '{:20,.4f}'.format"
   ]
  },
  {
   "cell_type": "code",
   "execution_count": 3,
   "id": "99b5c9c9-4889-4391-bf3e-66597cc6fe00",
   "metadata": {},
   "outputs": [
    {
     "name": "stdout",
     "output_type": "stream",
     "text": [
      "(90571, 36)\n",
      "(2361, 36)\n"
     ]
    }
   ],
   "source": [
    "df = pd.read_csv(r'data/training-data.csv')\n",
    "print(df.shape)\n",
    "\n",
    "df = df[df['Type']=='HHI'].reset_index(drop=True)\n",
    "print(df.shape)"
   ]
  },
  {
   "cell_type": "code",
   "execution_count": 4,
   "id": "7ddb3f70-cfbe-4889-bd92-830c10075227",
   "metadata": {},
   "outputs": [
    {
     "data": {
      "text/html": [
       "<div>\n",
       "<style scoped>\n",
       "    .dataframe tbody tr th:only-of-type {\n",
       "        vertical-align: middle;\n",
       "    }\n",
       "\n",
       "    .dataframe tbody tr th {\n",
       "        vertical-align: top;\n",
       "    }\n",
       "\n",
       "    .dataframe thead th {\n",
       "        text-align: right;\n",
       "    }\n",
       "</style>\n",
       "<table border=\"1\" class=\"dataframe\">\n",
       "  <thead>\n",
       "    <tr style=\"text-align: right;\">\n",
       "      <th></th>\n",
       "      <th>AudienceID</th>\n",
       "      <th>LotameID</th>\n",
       "      <th>y</th>\n",
       "      <th>Name</th>\n",
       "      <th>Type</th>\n",
       "      <th>fullVisitorId</th>\n",
       "      <th>browser</th>\n",
       "      <th>operatingSystem</th>\n",
       "      <th>operatingSystemVersion</th>\n",
       "      <th>isMobile</th>\n",
       "      <th>...</th>\n",
       "      <th>onPageTime</th>\n",
       "      <th>nextTime</th>\n",
       "      <th>user_active_days</th>\n",
       "      <th>total_visit_counts</th>\n",
       "      <th>total_unique_session</th>\n",
       "      <th>total_time_spent</th>\n",
       "      <th>time_spent_per_session</th>\n",
       "      <th>timeOnPage</th>\n",
       "      <th>GAClientId</th>\n",
       "      <th>cookie_id</th>\n",
       "    </tr>\n",
       "  </thead>\n",
       "  <tbody>\n",
       "    <tr>\n",
       "      <th>0</th>\n",
       "      <td>818744</td>\n",
       "      <td>cbb561a1af5a40eb684d55a8c0b2047a</td>\n",
       "      <td>1500-</td>\n",
       "      <td>RMG - 1PD - Declared - HHI - &lt;RM1,500\\t</td>\n",
       "      <td>HHI</td>\n",
       "      <td>10,531,342,589,549,778,944.0000</td>\n",
       "      <td>Chrome</td>\n",
       "      <td>Android</td>\n",
       "      <td>8.1.0</td>\n",
       "      <td>True</td>\n",
       "      <td>...</td>\n",
       "      <td>0</td>\n",
       "      <td>91472</td>\n",
       "      <td>5</td>\n",
       "      <td>43</td>\n",
       "      <td>5</td>\n",
       "      <td>735.0000</td>\n",
       "      <td>154.0000</td>\n",
       "      <td>91472</td>\n",
       "      <td>amp-35vZcqfyySaxus6_748cgw</td>\n",
       "      <td>IhHSD5tP1NnqeA1g</td>\n",
       "    </tr>\n",
       "    <tr>\n",
       "      <th>1</th>\n",
       "      <td>818744</td>\n",
       "      <td>cbb561a1af5a40eb684d55a8c0b2047a</td>\n",
       "      <td>1500-</td>\n",
       "      <td>RMG - 1PD - Declared - HHI - &lt;RM1,500\\t</td>\n",
       "      <td>HHI</td>\n",
       "      <td>10,531,342,589,549,778,944.0000</td>\n",
       "      <td>Chrome</td>\n",
       "      <td>Android</td>\n",
       "      <td>8.1.0</td>\n",
       "      <td>True</td>\n",
       "      <td>...</td>\n",
       "      <td>91472</td>\n",
       "      <td>103015</td>\n",
       "      <td>5</td>\n",
       "      <td>43</td>\n",
       "      <td>5</td>\n",
       "      <td>735.0000</td>\n",
       "      <td>154.0000</td>\n",
       "      <td>11543</td>\n",
       "      <td>amp-35vZcqfyySaxus6_748cgw</td>\n",
       "      <td>IhHSD5tP1NnqeA1g</td>\n",
       "    </tr>\n",
       "    <tr>\n",
       "      <th>2</th>\n",
       "      <td>818744</td>\n",
       "      <td>cbb561a1af5a40eb684d55a8c0b2047a</td>\n",
       "      <td>1500-</td>\n",
       "      <td>RMG - 1PD - Declared - HHI - &lt;RM1,500\\t</td>\n",
       "      <td>HHI</td>\n",
       "      <td>10,531,342,589,549,778,944.0000</td>\n",
       "      <td>Chrome</td>\n",
       "      <td>Android</td>\n",
       "      <td>8.1.0</td>\n",
       "      <td>True</td>\n",
       "      <td>...</td>\n",
       "      <td>103015</td>\n",
       "      <td>143773</td>\n",
       "      <td>5</td>\n",
       "      <td>43</td>\n",
       "      <td>5</td>\n",
       "      <td>735.0000</td>\n",
       "      <td>154.0000</td>\n",
       "      <td>40758</td>\n",
       "      <td>amp-35vZcqfyySaxus6_748cgw</td>\n",
       "      <td>IhHSD5tP1NnqeA1g</td>\n",
       "    </tr>\n",
       "    <tr>\n",
       "      <th>3</th>\n",
       "      <td>809023</td>\n",
       "      <td>e74bb87a1abb30abf105f2900a65e842</td>\n",
       "      <td>1.500-5000</td>\n",
       "      <td>RMG - 1PD - Declared - HHI - RM1.5K - RM5K\\t</td>\n",
       "      <td>HHI</td>\n",
       "      <td>1,158,781,765,718,776,832.0000</td>\n",
       "      <td>Chrome</td>\n",
       "      <td>Windows</td>\n",
       "      <td>7</td>\n",
       "      <td>False</td>\n",
       "      <td>...</td>\n",
       "      <td>0</td>\n",
       "      <td>126729</td>\n",
       "      <td>5</td>\n",
       "      <td>237</td>\n",
       "      <td>8</td>\n",
       "      <td>1,385.0000</td>\n",
       "      <td>217.0000</td>\n",
       "      <td>126729</td>\n",
       "      <td>269799904.1574837317</td>\n",
       "      <td>7Zr54t-YOVCMSUWw</td>\n",
       "    </tr>\n",
       "    <tr>\n",
       "      <th>4</th>\n",
       "      <td>809023</td>\n",
       "      <td>e74bb87a1abb30abf105f2900a65e842</td>\n",
       "      <td>1.500-5000</td>\n",
       "      <td>RMG - 1PD - Declared - HHI - RM1.5K - RM5K\\t</td>\n",
       "      <td>HHI</td>\n",
       "      <td>1,158,781,765,718,776,832.0000</td>\n",
       "      <td>Chrome</td>\n",
       "      <td>Windows</td>\n",
       "      <td>7</td>\n",
       "      <td>False</td>\n",
       "      <td>...</td>\n",
       "      <td>126729</td>\n",
       "      <td>207157</td>\n",
       "      <td>5</td>\n",
       "      <td>237</td>\n",
       "      <td>8</td>\n",
       "      <td>1,385.0000</td>\n",
       "      <td>217.0000</td>\n",
       "      <td>80428</td>\n",
       "      <td>269799904.1574837317</td>\n",
       "      <td>7Zr54t-YOVCMSUWw</td>\n",
       "    </tr>\n",
       "  </tbody>\n",
       "</table>\n",
       "<p>5 rows × 36 columns</p>\n",
       "</div>"
      ],
      "text/plain": [
       "   AudienceID                          LotameID           y  \\\n",
       "0      818744  cbb561a1af5a40eb684d55a8c0b2047a       1500-   \n",
       "1      818744  cbb561a1af5a40eb684d55a8c0b2047a       1500-   \n",
       "2      818744  cbb561a1af5a40eb684d55a8c0b2047a       1500-   \n",
       "3      809023  e74bb87a1abb30abf105f2900a65e842  1.500-5000   \n",
       "4      809023  e74bb87a1abb30abf105f2900a65e842  1.500-5000   \n",
       "\n",
       "                                           Name Type  \\\n",
       "0       RMG - 1PD - Declared - HHI - <RM1,500\\t  HHI   \n",
       "1       RMG - 1PD - Declared - HHI - <RM1,500\\t  HHI   \n",
       "2       RMG - 1PD - Declared - HHI - <RM1,500\\t  HHI   \n",
       "3  RMG - 1PD - Declared - HHI - RM1.5K - RM5K\\t  HHI   \n",
       "4  RMG - 1PD - Declared - HHI - RM1.5K - RM5K\\t  HHI   \n",
       "\n",
       "                    fullVisitorId browser operatingSystem  \\\n",
       "0 10,531,342,589,549,778,944.0000  Chrome         Android   \n",
       "1 10,531,342,589,549,778,944.0000  Chrome         Android   \n",
       "2 10,531,342,589,549,778,944.0000  Chrome         Android   \n",
       "3  1,158,781,765,718,776,832.0000  Chrome         Windows   \n",
       "4  1,158,781,765,718,776,832.0000  Chrome         Windows   \n",
       "\n",
       "  operatingSystemVersion  isMobile  ... onPageTime nextTime user_active_days  \\\n",
       "0                  8.1.0      True  ...          0    91472                5   \n",
       "1                  8.1.0      True  ...      91472   103015                5   \n",
       "2                  8.1.0      True  ...     103015   143773                5   \n",
       "3                      7     False  ...          0   126729                5   \n",
       "4                      7     False  ...     126729   207157                5   \n",
       "\n",
       "  total_visit_counts total_unique_session     total_time_spent  \\\n",
       "0                 43                    5             735.0000   \n",
       "1                 43                    5             735.0000   \n",
       "2                 43                    5             735.0000   \n",
       "3                237                    8           1,385.0000   \n",
       "4                237                    8           1,385.0000   \n",
       "\n",
       "  time_spent_per_session timeOnPage                  GAClientId  \\\n",
       "0               154.0000      91472  amp-35vZcqfyySaxus6_748cgw   \n",
       "1               154.0000      11543  amp-35vZcqfyySaxus6_748cgw   \n",
       "2               154.0000      40758  amp-35vZcqfyySaxus6_748cgw   \n",
       "3               217.0000     126729        269799904.1574837317   \n",
       "4               217.0000      80428        269799904.1574837317   \n",
       "\n",
       "          cookie_id  \n",
       "0  IhHSD5tP1NnqeA1g  \n",
       "1  IhHSD5tP1NnqeA1g  \n",
       "2  IhHSD5tP1NnqeA1g  \n",
       "3  7Zr54t-YOVCMSUWw  \n",
       "4  7Zr54t-YOVCMSUWw  \n",
       "\n",
       "[5 rows x 36 columns]"
      ]
     },
     "execution_count": 4,
     "metadata": {},
     "output_type": "execute_result"
    }
   ],
   "source": [
    "df.head(5)"
   ]
  },
  {
   "cell_type": "code",
   "execution_count": null,
   "id": "8f89fec9-5737-499f-9e8c-51c360c4d5d7",
   "metadata": {},
   "outputs": [],
   "source": []
  },
  {
   "cell_type": "code",
   "execution_count": null,
   "id": "04585839-ccc4-4816-919d-14ff0dec7acc",
   "metadata": {},
   "outputs": [],
   "source": []
  },
  {
   "cell_type": "code",
   "execution_count": null,
   "id": "5d76dd0a-4383-4b55-af4c-cbb94c6bea26",
   "metadata": {},
   "outputs": [],
   "source": []
  },
  {
   "cell_type": "markdown",
   "id": "e28e58b1-0d76-428d-9578-601494f6b673",
   "metadata": {},
   "source": [
    "## Helper Functions"
   ]
  },
  {
   "cell_type": "code",
   "execution_count": 5,
   "id": "28921833-e184-4e9d-b09d-e6ee98221a55",
   "metadata": {},
   "outputs": [],
   "source": [
    "## Plots a histogram, boxplot and provides a quantitative description of the data.\n",
    "\n",
    "def summary(series):\n",
    "    \n",
    "    fig, axes = plt.subplots(1,2, figsize=(11,5))\n",
    "    \n",
    "    series.plot(kind='box', ax=axes[0])\n",
    "    series.plot(kind='hist', bins=20, ax=axes[1])\n",
    "    \n",
    "    display(series.describe())\n",
    "    \n",
    "    return"
   ]
  },
  {
   "cell_type": "code",
   "execution_count": 6,
   "id": "93b4f999-e9bb-496b-bb0a-c7646e982208",
   "metadata": {},
   "outputs": [],
   "source": [
    "## Counts the number of NA values\n",
    "\n",
    "def checkna(df):\n",
    "    return df.isna().sum()[df.isna().sum()>0]"
   ]
  },
  {
   "cell_type": "code",
   "execution_count": null,
   "id": "e7fd8a34-0344-44f1-8032-a890bf1d8f83",
   "metadata": {},
   "outputs": [],
   "source": []
  },
  {
   "cell_type": "code",
   "execution_count": null,
   "id": "3552a189-4ea6-43f6-9dc6-1418bf9ec6af",
   "metadata": {},
   "outputs": [],
   "source": []
  },
  {
   "cell_type": "code",
   "execution_count": null,
   "id": "04659c18-049e-41a3-b747-7639699b8b2f",
   "metadata": {},
   "outputs": [],
   "source": []
  },
  {
   "cell_type": "markdown",
   "id": "8982f3a1-e7d3-44c5-a49b-b9b86ff689b7",
   "metadata": {},
   "source": [
    "# Preprocessing"
   ]
  },
  {
   "cell_type": "markdown",
   "id": "8b24f495-079b-40d1-a013-89f513b82eab",
   "metadata": {},
   "source": [
    "## Missing value treatment"
   ]
  },
  {
   "cell_type": "markdown",
   "id": "97ccf021-4ea9-48b6-8049-ba1e2e499f5a",
   "metadata": {},
   "source": [
    "Seems like the only columns with missing values are just string columns. No numerics. <br><br>\n",
    "This actually raises a question : <br> \n",
    "- _How reliable are the numeric columns?_\n",
    "\n",
    "Perhaps later on we can try to answering this question when we explore the data further."
   ]
  },
  {
   "cell_type": "markdown",
   "id": "84f0c3bb-bb00-4942-b9c3-108e04480cc7",
   "metadata": {},
   "source": [
    "<br><br><br>\n",
    "> For the missing pageTitle, I manually copied the title by visiting the url since it's just 1 missing value."
   ]
  },
  {
   "cell_type": "code",
   "execution_count": 7,
   "id": "9088fe9c-cae4-4cb3-9936-deaeca3ce921",
   "metadata": {},
   "outputs": [
    {
     "data": {
      "text/plain": [
       "mobileDeviceBranding          136\n",
       "mobileDeviceModel             136\n",
       "mobileInputSelector           136\n",
       "mobileDeviceMarketingName     136\n",
       "sub_sec                      1036\n",
       "pageTitle                       1\n",
       "dtype: int64"
      ]
     },
     "execution_count": 7,
     "metadata": {},
     "output_type": "execute_result"
    }
   ],
   "source": [
    "checkna(df)"
   ]
  },
  {
   "cell_type": "code",
   "execution_count": 8,
   "id": "2e198265-155e-4cd7-929a-59991c63eb5f",
   "metadata": {},
   "outputs": [
    {
     "data": {
      "text/html": [
       "<div>\n",
       "<style scoped>\n",
       "    .dataframe tbody tr th:only-of-type {\n",
       "        vertical-align: middle;\n",
       "    }\n",
       "\n",
       "    .dataframe tbody tr th {\n",
       "        vertical-align: top;\n",
       "    }\n",
       "\n",
       "    .dataframe thead th {\n",
       "        text-align: right;\n",
       "    }\n",
       "</style>\n",
       "<table border=\"1\" class=\"dataframe\">\n",
       "  <thead>\n",
       "    <tr style=\"text-align: right;\">\n",
       "      <th></th>\n",
       "      <th>sec</th>\n",
       "      <th>sub_sec</th>\n",
       "      <th>url</th>\n",
       "    </tr>\n",
       "  </thead>\n",
       "  <tbody>\n",
       "    <tr>\n",
       "      <th>81</th>\n",
       "      <td>/pernah-samakan-kemaluan-bekas-isteri-dengan-b...</td>\n",
       "      <td>NaN</td>\n",
       "      <td>https://ohbulan.com/pernah-samakan-kemaluan-be...</td>\n",
       "    </tr>\n",
       "  </tbody>\n",
       "</table>\n",
       "</div>"
      ],
      "text/plain": [
       "                                                  sec sub_sec  \\\n",
       "81  /pernah-samakan-kemaluan-bekas-isteri-dengan-b...     NaN   \n",
       "\n",
       "                                                  url  \n",
       "81  https://ohbulan.com/pernah-samakan-kemaluan-be...  "
      ]
     },
     "execution_count": 8,
     "metadata": {},
     "output_type": "execute_result"
    }
   ],
   "source": [
    "df[df['pageTitle'].isna()][['sec', 'sub_sec', 'url']]"
   ]
  },
  {
   "cell_type": "code",
   "execution_count": 9,
   "id": "808e075e-1116-4c6c-afac-cb5c2594d894",
   "metadata": {},
   "outputs": [],
   "source": [
    "# I manually copied the title by visiting the url since it's just 1 missing value\n",
    "\n",
    "df.loc[81, 'pageTitle'] = 'Pernah Samakan Kemaluan Bekas Isteri Dengan Bau Ikan Masin, Pelakon Akui Menyesal & Rindukan Anak'"
   ]
  },
  {
   "cell_type": "markdown",
   "id": "69aef0e6-5655-485b-a148-b8baea891673",
   "metadata": {},
   "source": [
    "<br><br><br>\n",
    "> Next I take a glimpse at the _mobile_ columns and figured out they were null because the visitor accessed the site using a PC"
   ]
  },
  {
   "cell_type": "code",
   "execution_count": 10,
   "id": "411200b1-b4a1-4cc5-94ea-55d60fb7a8c6",
   "metadata": {},
   "outputs": [
    {
     "data": {
      "text/plain": [
       "mobileDeviceBranding          136\n",
       "mobileDeviceModel             136\n",
       "mobileInputSelector           136\n",
       "mobileDeviceMarketingName     136\n",
       "sub_sec                      1036\n",
       "dtype: int64"
      ]
     },
     "execution_count": 10,
     "metadata": {},
     "output_type": "execute_result"
    }
   ],
   "source": [
    "checkna(df)"
   ]
  },
  {
   "cell_type": "code",
   "execution_count": 11,
   "id": "4a0f2e77-733c-49cd-bca4-f958dc8d8ac1",
   "metadata": {},
   "outputs": [
    {
     "data": {
      "text/plain": [
       "(136, 36)"
      ]
     },
     "execution_count": 11,
     "metadata": {},
     "output_type": "execute_result"
    }
   ],
   "source": [
    "# To check if the columns with 136 nulls are all the same rows\n",
    "\n",
    "df[\n",
    "    (df['mobileDeviceBranding'].isna()) & \n",
    "    (df['mobileDeviceModel'].isna()) & \n",
    "    (df['mobileInputSelector'].isna()) &\n",
    "    (df['mobileDeviceMarketingName'].isna())\n",
    "].shape"
   ]
  },
  {
   "cell_type": "code",
   "execution_count": 12,
   "id": "1c76b015-fdf0-4476-a34f-c76c9345c945",
   "metadata": {},
   "outputs": [
    {
     "data": {
      "text/html": [
       "<div>\n",
       "<style scoped>\n",
       "    .dataframe tbody tr th:only-of-type {\n",
       "        vertical-align: middle;\n",
       "    }\n",
       "\n",
       "    .dataframe tbody tr th {\n",
       "        vertical-align: top;\n",
       "    }\n",
       "\n",
       "    .dataframe thead th {\n",
       "        text-align: right;\n",
       "    }\n",
       "</style>\n",
       "<table border=\"1\" class=\"dataframe\">\n",
       "  <thead>\n",
       "    <tr style=\"text-align: right;\">\n",
       "      <th></th>\n",
       "      <th>AudienceID</th>\n",
       "      <th>LotameID</th>\n",
       "      <th>y</th>\n",
       "      <th>Name</th>\n",
       "      <th>Type</th>\n",
       "      <th>fullVisitorId</th>\n",
       "      <th>browser</th>\n",
       "      <th>operatingSystem</th>\n",
       "      <th>operatingSystemVersion</th>\n",
       "      <th>isMobile</th>\n",
       "      <th>...</th>\n",
       "      <th>onPageTime</th>\n",
       "      <th>nextTime</th>\n",
       "      <th>user_active_days</th>\n",
       "      <th>total_visit_counts</th>\n",
       "      <th>total_unique_session</th>\n",
       "      <th>total_time_spent</th>\n",
       "      <th>time_spent_per_session</th>\n",
       "      <th>timeOnPage</th>\n",
       "      <th>GAClientId</th>\n",
       "      <th>cookie_id</th>\n",
       "    </tr>\n",
       "  </thead>\n",
       "  <tbody>\n",
       "    <tr>\n",
       "      <th>3</th>\n",
       "      <td>809023</td>\n",
       "      <td>e74bb87a1abb30abf105f2900a65e842</td>\n",
       "      <td>1.500-5000</td>\n",
       "      <td>RMG - 1PD - Declared - HHI - RM1.5K - RM5K\\t</td>\n",
       "      <td>HHI</td>\n",
       "      <td>1,158,781,765,718,776,832.0000</td>\n",
       "      <td>Chrome</td>\n",
       "      <td>Windows</td>\n",
       "      <td>7</td>\n",
       "      <td>False</td>\n",
       "      <td>...</td>\n",
       "      <td>0</td>\n",
       "      <td>126729</td>\n",
       "      <td>5</td>\n",
       "      <td>237</td>\n",
       "      <td>8</td>\n",
       "      <td>1,385.0000</td>\n",
       "      <td>217.0000</td>\n",
       "      <td>126729</td>\n",
       "      <td>269799904.1574837317</td>\n",
       "      <td>7Zr54t-YOVCMSUWw</td>\n",
       "    </tr>\n",
       "    <tr>\n",
       "      <th>4</th>\n",
       "      <td>809023</td>\n",
       "      <td>e74bb87a1abb30abf105f2900a65e842</td>\n",
       "      <td>1.500-5000</td>\n",
       "      <td>RMG - 1PD - Declared - HHI - RM1.5K - RM5K\\t</td>\n",
       "      <td>HHI</td>\n",
       "      <td>1,158,781,765,718,776,832.0000</td>\n",
       "      <td>Chrome</td>\n",
       "      <td>Windows</td>\n",
       "      <td>7</td>\n",
       "      <td>False</td>\n",
       "      <td>...</td>\n",
       "      <td>126729</td>\n",
       "      <td>207157</td>\n",
       "      <td>5</td>\n",
       "      <td>237</td>\n",
       "      <td>8</td>\n",
       "      <td>1,385.0000</td>\n",
       "      <td>217.0000</td>\n",
       "      <td>80428</td>\n",
       "      <td>269799904.1574837317</td>\n",
       "      <td>7Zr54t-YOVCMSUWw</td>\n",
       "    </tr>\n",
       "    <tr>\n",
       "      <th>5</th>\n",
       "      <td>809023</td>\n",
       "      <td>e74bb87a1abb30abf105f2900a65e842</td>\n",
       "      <td>1.500-5000</td>\n",
       "      <td>RMG - 1PD - Declared - HHI - RM1.5K - RM5K\\t</td>\n",
       "      <td>HHI</td>\n",
       "      <td>1,158,781,765,718,776,832.0000</td>\n",
       "      <td>Chrome</td>\n",
       "      <td>Windows</td>\n",
       "      <td>7</td>\n",
       "      <td>False</td>\n",
       "      <td>...</td>\n",
       "      <td>44441</td>\n",
       "      <td>142871</td>\n",
       "      <td>5</td>\n",
       "      <td>237</td>\n",
       "      <td>8</td>\n",
       "      <td>1,385.0000</td>\n",
       "      <td>203.0000</td>\n",
       "      <td>98430</td>\n",
       "      <td>269799904.1574837317</td>\n",
       "      <td>7Zr54t-YOVCMSUWw</td>\n",
       "    </tr>\n",
       "    <tr>\n",
       "      <th>13</th>\n",
       "      <td>809023</td>\n",
       "      <td>81f5fed7165c2ab7995465dbf6d5ee61</td>\n",
       "      <td>1.500-5000</td>\n",
       "      <td>RMG - 1PD - Declared - HHI - RM1.5K - RM5K\\t</td>\n",
       "      <td>HHI</td>\n",
       "      <td>1,483,772,560,735,865,856.0000</td>\n",
       "      <td>Chrome</td>\n",
       "      <td>Windows</td>\n",
       "      <td>10</td>\n",
       "      <td>False</td>\n",
       "      <td>...</td>\n",
       "      <td>0</td>\n",
       "      <td>364717</td>\n",
       "      <td>2</td>\n",
       "      <td>30</td>\n",
       "      <td>2</td>\n",
       "      <td>730.0000</td>\n",
       "      <td>365.0000</td>\n",
       "      <td>364717</td>\n",
       "      <td>345467720.1512180611</td>\n",
       "      <td>5LgVxDgzLA5I6DDi</td>\n",
       "    </tr>\n",
       "    <tr>\n",
       "      <th>14</th>\n",
       "      <td>809023</td>\n",
       "      <td>81f5fed7165c2ab7995465dbf6d5ee61</td>\n",
       "      <td>1.500-5000</td>\n",
       "      <td>RMG - 1PD - Declared - HHI - RM1.5K - RM5K\\t</td>\n",
       "      <td>HHI</td>\n",
       "      <td>1,483,772,560,735,865,856.0000</td>\n",
       "      <td>Chrome</td>\n",
       "      <td>Windows</td>\n",
       "      <td>10</td>\n",
       "      <td>False</td>\n",
       "      <td>...</td>\n",
       "      <td>81</td>\n",
       "      <td>132531</td>\n",
       "      <td>7</td>\n",
       "      <td>634</td>\n",
       "      <td>7</td>\n",
       "      <td>101,631.0000</td>\n",
       "      <td>632.0000</td>\n",
       "      <td>132450</td>\n",
       "      <td>345467720.1512180611</td>\n",
       "      <td>5LgVxDgzLA5I6DDi</td>\n",
       "    </tr>\n",
       "  </tbody>\n",
       "</table>\n",
       "<p>5 rows × 36 columns</p>\n",
       "</div>"
      ],
      "text/plain": [
       "    AudienceID                          LotameID           y  \\\n",
       "3       809023  e74bb87a1abb30abf105f2900a65e842  1.500-5000   \n",
       "4       809023  e74bb87a1abb30abf105f2900a65e842  1.500-5000   \n",
       "5       809023  e74bb87a1abb30abf105f2900a65e842  1.500-5000   \n",
       "13      809023  81f5fed7165c2ab7995465dbf6d5ee61  1.500-5000   \n",
       "14      809023  81f5fed7165c2ab7995465dbf6d5ee61  1.500-5000   \n",
       "\n",
       "                                            Name Type  \\\n",
       "3   RMG - 1PD - Declared - HHI - RM1.5K - RM5K\\t  HHI   \n",
       "4   RMG - 1PD - Declared - HHI - RM1.5K - RM5K\\t  HHI   \n",
       "5   RMG - 1PD - Declared - HHI - RM1.5K - RM5K\\t  HHI   \n",
       "13  RMG - 1PD - Declared - HHI - RM1.5K - RM5K\\t  HHI   \n",
       "14  RMG - 1PD - Declared - HHI - RM1.5K - RM5K\\t  HHI   \n",
       "\n",
       "                    fullVisitorId browser operatingSystem  \\\n",
       "3  1,158,781,765,718,776,832.0000  Chrome         Windows   \n",
       "4  1,158,781,765,718,776,832.0000  Chrome         Windows   \n",
       "5  1,158,781,765,718,776,832.0000  Chrome         Windows   \n",
       "13 1,483,772,560,735,865,856.0000  Chrome         Windows   \n",
       "14 1,483,772,560,735,865,856.0000  Chrome         Windows   \n",
       "\n",
       "   operatingSystemVersion  isMobile  ... onPageTime nextTime user_active_days  \\\n",
       "3                       7     False  ...          0   126729                5   \n",
       "4                       7     False  ...     126729   207157                5   \n",
       "5                       7     False  ...      44441   142871                5   \n",
       "13                     10     False  ...          0   364717                2   \n",
       "14                     10     False  ...         81   132531                7   \n",
       "\n",
       "   total_visit_counts total_unique_session     total_time_spent  \\\n",
       "3                 237                    8           1,385.0000   \n",
       "4                 237                    8           1,385.0000   \n",
       "5                 237                    8           1,385.0000   \n",
       "13                 30                    2             730.0000   \n",
       "14                634                    7         101,631.0000   \n",
       "\n",
       "   time_spent_per_session timeOnPage            GAClientId         cookie_id  \n",
       "3                217.0000     126729  269799904.1574837317  7Zr54t-YOVCMSUWw  \n",
       "4                217.0000      80428  269799904.1574837317  7Zr54t-YOVCMSUWw  \n",
       "5                203.0000      98430  269799904.1574837317  7Zr54t-YOVCMSUWw  \n",
       "13               365.0000     364717  345467720.1512180611  5LgVxDgzLA5I6DDi  \n",
       "14               632.0000     132450  345467720.1512180611  5LgVxDgzLA5I6DDi  \n",
       "\n",
       "[5 rows x 36 columns]"
      ]
     },
     "execution_count": 12,
     "metadata": {},
     "output_type": "execute_result"
    }
   ],
   "source": [
    "df[df['mobileDeviceBranding'].isna()].head(5)"
   ]
  },
  {
   "cell_type": "code",
   "execution_count": 13,
   "id": "69239684-7b61-45e3-a768-b4fd151e202d",
   "metadata": {},
   "outputs": [
    {
     "data": {
      "text/plain": [
       "Windows    136\n",
       "Name: operatingSystem, dtype: int64"
      ]
     },
     "execution_count": 13,
     "metadata": {},
     "output_type": "execute_result"
    }
   ],
   "source": [
    "df[df['mobileDeviceBranding'].isna()]['operatingSystem'].value_counts()"
   ]
  },
  {
   "cell_type": "code",
   "execution_count": 14,
   "id": "e3423f22-32a6-4d3d-bc16-4a4e20afa55c",
   "metadata": {},
   "outputs": [
    {
     "data": {
      "text/plain": [
       "sub_sec    1036\n",
       "dtype: int64"
      ]
     },
     "execution_count": 14,
     "metadata": {},
     "output_type": "execute_result"
    }
   ],
   "source": [
    "df['mobileDeviceBranding'].fillna('Windows', inplace=True)\n",
    "df['mobileDeviceModel'].fillna('Windows', inplace=True)\n",
    "df['mobileInputSelector'].fillna('cursor', inplace=True)\n",
    "df['mobileDeviceMarketingName'].fillna('Windows', inplace=True)\n",
    "\n",
    "df['mobileDeviceInfo'].replace('(not set)', 'Windows', inplace=True)\n",
    "\n",
    "checkna(df)"
   ]
  },
  {
   "cell_type": "markdown",
   "id": "04346e83-51dd-48d2-8724-b7cfbc1bc297",
   "metadata": {},
   "source": [
    "<br><br><br>\n",
    "> Next I take a look at the last column, and finally just decided to fill it with an empty string '' for now. <br>\n",
    "Also decided to clean the text a little to remove all the slashes for _sub_ and _sub_sec_"
   ]
  },
  {
   "cell_type": "code",
   "execution_count": 15,
   "id": "aaf02b07-8d24-49a1-93fb-80e9fe33d4b6",
   "metadata": {},
   "outputs": [
    {
     "data": {
      "text/plain": [
       "sub_sec    1036\n",
       "dtype: int64"
      ]
     },
     "execution_count": 15,
     "metadata": {},
     "output_type": "execute_result"
    }
   ],
   "source": [
    "checkna(df)"
   ]
  },
  {
   "cell_type": "code",
   "execution_count": 16,
   "id": "c21cdca3-ddf1-49f8-91b9-a955068c3569",
   "metadata": {},
   "outputs": [
    {
     "data": {
      "text/plain": [
       "/nation/                      475\n",
       "/politics/                    200\n",
       "/world/                       196\n",
       "/crime-courts/                151\n",
       "/groove/                       75\n",
       "/2022/                         45\n",
       "/badminton/                    36\n",
       "/leaders/                      24\n",
       "/football/                     15\n",
       "/letters/                      14\n",
       "/seismik/                      13\n",
       "/sunday-vibes/                 11\n",
       "/region/                       11\n",
       "/government-public-policy/     10\n",
       "/heal/                          9\n",
       "/news/                          7\n",
       "/columnists/                    7\n",
       "/others/                        4\n",
       "/makan/                         4\n",
       "/fun/                           4\n",
       "/jom/                           4\n",
       "/nation                         3\n",
       "/                               2\n",
       "/tennis/                        2\n",
       "/bots/                          1\n",
       "/badminton                      1\n",
       "/amp                            1\n",
       "Name: sub_sec, dtype: int64"
      ]
     },
     "execution_count": 16,
     "metadata": {},
     "output_type": "execute_result"
    }
   ],
   "source": [
    "df[df['sub_sec'].notna()]['sub_sec'].value_counts()"
   ]
  },
  {
   "cell_type": "code",
   "execution_count": 17,
   "id": "101f63fd-0def-4d2c-a579-e8d44c578b89",
   "metadata": {},
   "outputs": [
    {
     "data": {
      "text/plain": [
       "                1038\n",
       "nation           478\n",
       "politics         200\n",
       "world            196\n",
       "crime-courts     151\n",
       "Name: sub_sec, dtype: int64"
      ]
     },
     "execution_count": 17,
     "metadata": {},
     "output_type": "execute_result"
    }
   ],
   "source": [
    "df['sub_sec'].fillna('/', inplace=True)\n",
    "\n",
    "df['sub_sec'] = df['sub_sec'].str.replace('/', '')\n",
    "\n",
    "df[df['sub_sec'].notna()]['sub_sec'].value_counts().head(5)"
   ]
  },
  {
   "cell_type": "code",
   "execution_count": 18,
   "id": "3a6cc4b8-421c-4428-8462-c49dab13fd79",
   "metadata": {},
   "outputs": [
    {
     "data": {
      "text/plain": [
       "             870\n",
       "news         844\n",
       "world        219\n",
       "lifestyle    116\n",
       "sports        61\n",
       "Name: sec, dtype: int64"
      ]
     },
     "execution_count": 18,
     "metadata": {},
     "output_type": "execute_result"
    }
   ],
   "source": [
    "df['sec'].fillna('/', inplace=True)\n",
    "\n",
    "df['sec'] = df['sec'].str.replace('/', '')\n",
    "\n",
    "df[df['sec'].notna()]['sec'].value_counts().head(5)"
   ]
  },
  {
   "cell_type": "code",
   "execution_count": 19,
   "id": "b7a67e07-c419-4186-be29-ce971cc878b1",
   "metadata": {},
   "outputs": [
    {
     "data": {
      "text/plain": [
       "Series([], dtype: int64)"
      ]
     },
     "execution_count": 19,
     "metadata": {},
     "output_type": "execute_result"
    }
   ],
   "source": [
    "checkna(df)"
   ]
  },
  {
   "cell_type": "code",
   "execution_count": 20,
   "id": "61ab65b0-6cbe-4b7b-9462-516f2e82f7ae",
   "metadata": {},
   "outputs": [
    {
     "data": {
      "text/plain": [
       "(2361, 36)"
      ]
     },
     "execution_count": 20,
     "metadata": {},
     "output_type": "execute_result"
    }
   ],
   "source": [
    "df.shape"
   ]
  },
  {
   "cell_type": "code",
   "execution_count": null,
   "id": "1cdf87d4-acbc-48a1-b61e-b6de7249db55",
   "metadata": {},
   "outputs": [],
   "source": []
  },
  {
   "cell_type": "code",
   "execution_count": null,
   "id": "d06b44b1-d6af-4ee9-abe6-1717a3bbda96",
   "metadata": {},
   "outputs": [],
   "source": []
  },
  {
   "cell_type": "code",
   "execution_count": null,
   "id": "0f7571f4-88c0-44f0-9441-e3f2d567a5f7",
   "metadata": {},
   "outputs": [],
   "source": []
  },
  {
   "cell_type": "markdown",
   "id": "398cb0fb-0d54-4ac3-8693-89317cee78d5",
   "metadata": {},
   "source": [
    "## EDA & Feature Engineering\n",
    "\n",
    "Now that's done, we move on to the most time-consuming part of preprocessing, which is EDA.\n",
    "\n",
    "Even for EDA I didn't have much time to spend, and couldn't really answer all of the questions I had. However there were still some interesting stuff that I managed to find.\n"
   ]
  },
  {
   "cell_type": "markdown",
   "id": "59b02409-d8e1-4698-9456-9978db44bfc0",
   "metadata": {},
   "source": [
    "### String features\n",
    "\n",
    "> Taking a look at all the columns, it seems like there's more string columns than numeric columns. <br>\n",
    "This means there's going to be quite alot of encoding work to do later on.\n",
    "\n",
    ">One thing that piqued my interest is that why are there so many _ID_ columns?<br>\n",
    "Usually IDs aren't used as a feature but before dropping them I wanted to take a look first.<br><br>\n",
    "It seems like _LotameID_, _fullVisitorId_, _GAClientID_ aren't unique for every row, and they are always paired together (when 1 changes, the others also change).<br>\n",
    "And just from eyeballing the data, it seems like the IDs represent 1 unique device/browser. So a single ID can be present in multiple rows, meaning they are returning users.\n",
    "From here I'll just assume and generalize that:<br>\n",
    "> * _A unique ID represents a person_\n",
    "> * _A row represents a single site visit_\n",
    "\n",
    "> Then this raises another question. Since we are trying to predict the HHI which is at person-level,\n",
    "> * _Would it be more accurate to aggregate the data so that 1 row represents 1 person?_\n",
    "\n",
    "> It seems like there's only 42 unique IDs. If I decide to aggregate the data to 1 row = 1 person, it would significantly decrease the number of observations. <br>\n",
    "It might still be possible especially with regression, but for now I'll consider that as a future work."
   ]
  },
  {
   "cell_type": "code",
   "execution_count": 21,
   "id": "a308b4eb-2f2a-42d0-b3ca-1d039b4fd064",
   "metadata": {},
   "outputs": [
    {
     "data": {
      "text/plain": [
       "AudienceID                     int64\n",
       "LotameID                      object\n",
       "y                             object\n",
       "Name                          object\n",
       "Type                          object\n",
       "fullVisitorId                float64\n",
       "browser                       object\n",
       "operatingSystem               object\n",
       "operatingSystemVersion        object\n",
       "isMobile                        bool\n",
       "mobileDeviceBranding          object\n",
       "mobileDeviceModel             object\n",
       "mobileInputSelector           object\n",
       "mobileDeviceInfo              object\n",
       "mobileDeviceMarketingName     object\n",
       "screenResolution              object\n",
       "language                      object\n",
       "continent                     object\n",
       "subContinent                  object\n",
       "country                       object\n",
       "region                        object\n",
       "city                          object\n",
       "sec                           object\n",
       "sub_sec                       object\n",
       "pageTitle                     object\n",
       "url                           object\n",
       "onPageTime                     int64\n",
       "nextTime                       int64\n",
       "user_active_days               int64\n",
       "total_visit_counts             int64\n",
       "total_unique_session           int64\n",
       "total_time_spent             float64\n",
       "time_spent_per_session       float64\n",
       "timeOnPage                     int64\n",
       "GAClientId                    object\n",
       "cookie_id                     object\n",
       "dtype: object"
      ]
     },
     "execution_count": 21,
     "metadata": {},
     "output_type": "execute_result"
    }
   ],
   "source": [
    "df.dtypes"
   ]
  },
  {
   "cell_type": "code",
   "execution_count": 22,
   "id": "2e7b0e96-eca7-485b-898f-d236fb12cb2d",
   "metadata": {},
   "outputs": [
    {
     "name": "stdout",
     "output_type": "stream",
     "text": [
      "3\n",
      "42\n",
      "42\n",
      "42\n",
      "49\n"
     ]
    }
   ],
   "source": [
    "print(df['AudienceID'].nunique())\n",
    "print(df['LotameID'].nunique())\n",
    "print(df['fullVisitorId'].nunique())\n",
    "print(df['GAClientId'].nunique())\n",
    "print(df['cookie_id'].nunique())"
   ]
  },
  {
   "cell_type": "code",
   "execution_count": 23,
   "id": "f72f7f05-1bff-4f6f-9f85-8cc1ee1b6d89",
   "metadata": {},
   "outputs": [
    {
     "data": {
      "text/plain": [
       "(42, 33)"
      ]
     },
     "execution_count": 23,
     "metadata": {},
     "output_type": "execute_result"
    }
   ],
   "source": [
    "df.groupby(['fullVisitorId', 'LotameID', 'GAClientId']).count().shape"
   ]
  },
  {
   "cell_type": "code",
   "execution_count": 24,
   "id": "51756c31-3839-40aa-ad30-32005916d625",
   "metadata": {},
   "outputs": [
    {
     "data": {
      "text/html": [
       "<div>\n",
       "<style scoped>\n",
       "    .dataframe tbody tr th:only-of-type {\n",
       "        vertical-align: middle;\n",
       "    }\n",
       "\n",
       "    .dataframe tbody tr th {\n",
       "        vertical-align: top;\n",
       "    }\n",
       "\n",
       "    .dataframe thead th {\n",
       "        text-align: right;\n",
       "    }\n",
       "</style>\n",
       "<table border=\"1\" class=\"dataframe\">\n",
       "  <thead>\n",
       "    <tr style=\"text-align: right;\">\n",
       "      <th></th>\n",
       "      <th></th>\n",
       "      <th></th>\n",
       "      <th>AudienceID</th>\n",
       "      <th>y</th>\n",
       "      <th>Name</th>\n",
       "      <th>Type</th>\n",
       "      <th>browser</th>\n",
       "      <th>operatingSystem</th>\n",
       "      <th>operatingSystemVersion</th>\n",
       "      <th>isMobile</th>\n",
       "      <th>mobileDeviceBranding</th>\n",
       "      <th>mobileDeviceModel</th>\n",
       "      <th>...</th>\n",
       "      <th>url</th>\n",
       "      <th>onPageTime</th>\n",
       "      <th>nextTime</th>\n",
       "      <th>user_active_days</th>\n",
       "      <th>total_visit_counts</th>\n",
       "      <th>total_unique_session</th>\n",
       "      <th>total_time_spent</th>\n",
       "      <th>time_spent_per_session</th>\n",
       "      <th>timeOnPage</th>\n",
       "      <th>cookie_id</th>\n",
       "    </tr>\n",
       "    <tr>\n",
       "      <th>fullVisitorId</th>\n",
       "      <th>LotameID</th>\n",
       "      <th>GAClientId</th>\n",
       "      <th></th>\n",
       "      <th></th>\n",
       "      <th></th>\n",
       "      <th></th>\n",
       "      <th></th>\n",
       "      <th></th>\n",
       "      <th></th>\n",
       "      <th></th>\n",
       "      <th></th>\n",
       "      <th></th>\n",
       "      <th></th>\n",
       "      <th></th>\n",
       "      <th></th>\n",
       "      <th></th>\n",
       "      <th></th>\n",
       "      <th></th>\n",
       "      <th></th>\n",
       "      <th></th>\n",
       "      <th></th>\n",
       "      <th></th>\n",
       "      <th></th>\n",
       "    </tr>\n",
       "  </thead>\n",
       "  <tbody>\n",
       "    <tr>\n",
       "      <th>8,547,876,345,369,880,576.0000</th>\n",
       "      <th>196c30f4cdae19dd70c4d634a38b6b37</th>\n",
       "      <th>1990207551.1572628814</th>\n",
       "      <td>1320</td>\n",
       "      <td>1320</td>\n",
       "      <td>1320</td>\n",
       "      <td>1320</td>\n",
       "      <td>1320</td>\n",
       "      <td>1320</td>\n",
       "      <td>1320</td>\n",
       "      <td>1320</td>\n",
       "      <td>1320</td>\n",
       "      <td>1320</td>\n",
       "      <td>...</td>\n",
       "      <td>1320</td>\n",
       "      <td>1320</td>\n",
       "      <td>1320</td>\n",
       "      <td>1320</td>\n",
       "      <td>1320</td>\n",
       "      <td>1320</td>\n",
       "      <td>1320</td>\n",
       "      <td>1320</td>\n",
       "      <td>1320</td>\n",
       "      <td>1320</td>\n",
       "    </tr>\n",
       "    <tr>\n",
       "      <th>5,197,989,544,560,529,408.0000</th>\n",
       "      <th>846349b894fb8ab473d5940ec70cae0</th>\n",
       "      <th>1210251251.1572441982</th>\n",
       "      <td>519</td>\n",
       "      <td>519</td>\n",
       "      <td>519</td>\n",
       "      <td>519</td>\n",
       "      <td>519</td>\n",
       "      <td>519</td>\n",
       "      <td>519</td>\n",
       "      <td>519</td>\n",
       "      <td>519</td>\n",
       "      <td>519</td>\n",
       "      <td>...</td>\n",
       "      <td>519</td>\n",
       "      <td>519</td>\n",
       "      <td>519</td>\n",
       "      <td>519</td>\n",
       "      <td>519</td>\n",
       "      <td>519</td>\n",
       "      <td>519</td>\n",
       "      <td>519</td>\n",
       "      <td>519</td>\n",
       "      <td>519</td>\n",
       "    </tr>\n",
       "    <tr>\n",
       "      <th>513,091,887,291,771,392.0000</th>\n",
       "      <th>bf8e8d0a3026f468d80969ab351af4ce</th>\n",
       "      <th>119463514.1596533239</th>\n",
       "      <td>144</td>\n",
       "      <td>144</td>\n",
       "      <td>144</td>\n",
       "      <td>144</td>\n",
       "      <td>144</td>\n",
       "      <td>144</td>\n",
       "      <td>144</td>\n",
       "      <td>144</td>\n",
       "      <td>144</td>\n",
       "      <td>144</td>\n",
       "      <td>...</td>\n",
       "      <td>144</td>\n",
       "      <td>144</td>\n",
       "      <td>144</td>\n",
       "      <td>144</td>\n",
       "      <td>144</td>\n",
       "      <td>144</td>\n",
       "      <td>144</td>\n",
       "      <td>144</td>\n",
       "      <td>144</td>\n",
       "      <td>144</td>\n",
       "    </tr>\n",
       "    <tr>\n",
       "      <th>1,483,772,560,735,865,856.0000</th>\n",
       "      <th>81f5fed7165c2ab7995465dbf6d5ee61</th>\n",
       "      <th>345467720.1512180611</th>\n",
       "      <td>68</td>\n",
       "      <td>68</td>\n",
       "      <td>68</td>\n",
       "      <td>68</td>\n",
       "      <td>68</td>\n",
       "      <td>68</td>\n",
       "      <td>68</td>\n",
       "      <td>68</td>\n",
       "      <td>68</td>\n",
       "      <td>68</td>\n",
       "      <td>...</td>\n",
       "      <td>68</td>\n",
       "      <td>68</td>\n",
       "      <td>68</td>\n",
       "      <td>68</td>\n",
       "      <td>68</td>\n",
       "      <td>68</td>\n",
       "      <td>68</td>\n",
       "      <td>68</td>\n",
       "      <td>68</td>\n",
       "      <td>68</td>\n",
       "    </tr>\n",
       "    <tr>\n",
       "      <th>6,287,112,969,319,102,464.0000</th>\n",
       "      <th>37d0d3bf3d3c48261908dddd9cbf02cc</th>\n",
       "      <th>1463832559.1594111754</th>\n",
       "      <td>39</td>\n",
       "      <td>39</td>\n",
       "      <td>39</td>\n",
       "      <td>39</td>\n",
       "      <td>39</td>\n",
       "      <td>39</td>\n",
       "      <td>39</td>\n",
       "      <td>39</td>\n",
       "      <td>39</td>\n",
       "      <td>39</td>\n",
       "      <td>...</td>\n",
       "      <td>39</td>\n",
       "      <td>39</td>\n",
       "      <td>39</td>\n",
       "      <td>39</td>\n",
       "      <td>39</td>\n",
       "      <td>39</td>\n",
       "      <td>39</td>\n",
       "      <td>39</td>\n",
       "      <td>39</td>\n",
       "      <td>39</td>\n",
       "    </tr>\n",
       "  </tbody>\n",
       "</table>\n",
       "<p>5 rows × 33 columns</p>\n",
       "</div>"
      ],
      "text/plain": [
       "                                                                                       AudienceID  \\\n",
       "fullVisitorId                  LotameID                         GAClientId                          \n",
       "8,547,876,345,369,880,576.0000 196c30f4cdae19dd70c4d634a38b6b37 1990207551.1572628814        1320   \n",
       "5,197,989,544,560,529,408.0000 846349b894fb8ab473d5940ec70cae0  1210251251.1572441982         519   \n",
       "513,091,887,291,771,392.0000   bf8e8d0a3026f468d80969ab351af4ce 119463514.1596533239          144   \n",
       "1,483,772,560,735,865,856.0000 81f5fed7165c2ab7995465dbf6d5ee61 345467720.1512180611           68   \n",
       "6,287,112,969,319,102,464.0000 37d0d3bf3d3c48261908dddd9cbf02cc 1463832559.1594111754          39   \n",
       "\n",
       "                                                                                          y  \\\n",
       "fullVisitorId                  LotameID                         GAClientId                    \n",
       "8,547,876,345,369,880,576.0000 196c30f4cdae19dd70c4d634a38b6b37 1990207551.1572628814  1320   \n",
       "5,197,989,544,560,529,408.0000 846349b894fb8ab473d5940ec70cae0  1210251251.1572441982   519   \n",
       "513,091,887,291,771,392.0000   bf8e8d0a3026f468d80969ab351af4ce 119463514.1596533239    144   \n",
       "1,483,772,560,735,865,856.0000 81f5fed7165c2ab7995465dbf6d5ee61 345467720.1512180611     68   \n",
       "6,287,112,969,319,102,464.0000 37d0d3bf3d3c48261908dddd9cbf02cc 1463832559.1594111754    39   \n",
       "\n",
       "                                                                                       Name  \\\n",
       "fullVisitorId                  LotameID                         GAClientId                    \n",
       "8,547,876,345,369,880,576.0000 196c30f4cdae19dd70c4d634a38b6b37 1990207551.1572628814  1320   \n",
       "5,197,989,544,560,529,408.0000 846349b894fb8ab473d5940ec70cae0  1210251251.1572441982   519   \n",
       "513,091,887,291,771,392.0000   bf8e8d0a3026f468d80969ab351af4ce 119463514.1596533239    144   \n",
       "1,483,772,560,735,865,856.0000 81f5fed7165c2ab7995465dbf6d5ee61 345467720.1512180611     68   \n",
       "6,287,112,969,319,102,464.0000 37d0d3bf3d3c48261908dddd9cbf02cc 1463832559.1594111754    39   \n",
       "\n",
       "                                                                                       Type  \\\n",
       "fullVisitorId                  LotameID                         GAClientId                    \n",
       "8,547,876,345,369,880,576.0000 196c30f4cdae19dd70c4d634a38b6b37 1990207551.1572628814  1320   \n",
       "5,197,989,544,560,529,408.0000 846349b894fb8ab473d5940ec70cae0  1210251251.1572441982   519   \n",
       "513,091,887,291,771,392.0000   bf8e8d0a3026f468d80969ab351af4ce 119463514.1596533239    144   \n",
       "1,483,772,560,735,865,856.0000 81f5fed7165c2ab7995465dbf6d5ee61 345467720.1512180611     68   \n",
       "6,287,112,969,319,102,464.0000 37d0d3bf3d3c48261908dddd9cbf02cc 1463832559.1594111754    39   \n",
       "\n",
       "                                                                                       browser  \\\n",
       "fullVisitorId                  LotameID                         GAClientId                       \n",
       "8,547,876,345,369,880,576.0000 196c30f4cdae19dd70c4d634a38b6b37 1990207551.1572628814     1320   \n",
       "5,197,989,544,560,529,408.0000 846349b894fb8ab473d5940ec70cae0  1210251251.1572441982      519   \n",
       "513,091,887,291,771,392.0000   bf8e8d0a3026f468d80969ab351af4ce 119463514.1596533239       144   \n",
       "1,483,772,560,735,865,856.0000 81f5fed7165c2ab7995465dbf6d5ee61 345467720.1512180611        68   \n",
       "6,287,112,969,319,102,464.0000 37d0d3bf3d3c48261908dddd9cbf02cc 1463832559.1594111754       39   \n",
       "\n",
       "                                                                                       operatingSystem  \\\n",
       "fullVisitorId                  LotameID                         GAClientId                               \n",
       "8,547,876,345,369,880,576.0000 196c30f4cdae19dd70c4d634a38b6b37 1990207551.1572628814             1320   \n",
       "5,197,989,544,560,529,408.0000 846349b894fb8ab473d5940ec70cae0  1210251251.1572441982              519   \n",
       "513,091,887,291,771,392.0000   bf8e8d0a3026f468d80969ab351af4ce 119463514.1596533239               144   \n",
       "1,483,772,560,735,865,856.0000 81f5fed7165c2ab7995465dbf6d5ee61 345467720.1512180611                68   \n",
       "6,287,112,969,319,102,464.0000 37d0d3bf3d3c48261908dddd9cbf02cc 1463832559.1594111754               39   \n",
       "\n",
       "                                                                                       operatingSystemVersion  \\\n",
       "fullVisitorId                  LotameID                         GAClientId                                      \n",
       "8,547,876,345,369,880,576.0000 196c30f4cdae19dd70c4d634a38b6b37 1990207551.1572628814                    1320   \n",
       "5,197,989,544,560,529,408.0000 846349b894fb8ab473d5940ec70cae0  1210251251.1572441982                     519   \n",
       "513,091,887,291,771,392.0000   bf8e8d0a3026f468d80969ab351af4ce 119463514.1596533239                      144   \n",
       "1,483,772,560,735,865,856.0000 81f5fed7165c2ab7995465dbf6d5ee61 345467720.1512180611                       68   \n",
       "6,287,112,969,319,102,464.0000 37d0d3bf3d3c48261908dddd9cbf02cc 1463832559.1594111754                      39   \n",
       "\n",
       "                                                                                       isMobile  \\\n",
       "fullVisitorId                  LotameID                         GAClientId                        \n",
       "8,547,876,345,369,880,576.0000 196c30f4cdae19dd70c4d634a38b6b37 1990207551.1572628814      1320   \n",
       "5,197,989,544,560,529,408.0000 846349b894fb8ab473d5940ec70cae0  1210251251.1572441982       519   \n",
       "513,091,887,291,771,392.0000   bf8e8d0a3026f468d80969ab351af4ce 119463514.1596533239        144   \n",
       "1,483,772,560,735,865,856.0000 81f5fed7165c2ab7995465dbf6d5ee61 345467720.1512180611         68   \n",
       "6,287,112,969,319,102,464.0000 37d0d3bf3d3c48261908dddd9cbf02cc 1463832559.1594111754        39   \n",
       "\n",
       "                                                                                       mobileDeviceBranding  \\\n",
       "fullVisitorId                  LotameID                         GAClientId                                    \n",
       "8,547,876,345,369,880,576.0000 196c30f4cdae19dd70c4d634a38b6b37 1990207551.1572628814                  1320   \n",
       "5,197,989,544,560,529,408.0000 846349b894fb8ab473d5940ec70cae0  1210251251.1572441982                   519   \n",
       "513,091,887,291,771,392.0000   bf8e8d0a3026f468d80969ab351af4ce 119463514.1596533239                    144   \n",
       "1,483,772,560,735,865,856.0000 81f5fed7165c2ab7995465dbf6d5ee61 345467720.1512180611                     68   \n",
       "6,287,112,969,319,102,464.0000 37d0d3bf3d3c48261908dddd9cbf02cc 1463832559.1594111754                    39   \n",
       "\n",
       "                                                                                       mobileDeviceModel  \\\n",
       "fullVisitorId                  LotameID                         GAClientId                                 \n",
       "8,547,876,345,369,880,576.0000 196c30f4cdae19dd70c4d634a38b6b37 1990207551.1572628814               1320   \n",
       "5,197,989,544,560,529,408.0000 846349b894fb8ab473d5940ec70cae0  1210251251.1572441982                519   \n",
       "513,091,887,291,771,392.0000   bf8e8d0a3026f468d80969ab351af4ce 119463514.1596533239                 144   \n",
       "1,483,772,560,735,865,856.0000 81f5fed7165c2ab7995465dbf6d5ee61 345467720.1512180611                  68   \n",
       "6,287,112,969,319,102,464.0000 37d0d3bf3d3c48261908dddd9cbf02cc 1463832559.1594111754                 39   \n",
       "\n",
       "                                                                                       ...  \\\n",
       "fullVisitorId                  LotameID                         GAClientId             ...   \n",
       "8,547,876,345,369,880,576.0000 196c30f4cdae19dd70c4d634a38b6b37 1990207551.1572628814  ...   \n",
       "5,197,989,544,560,529,408.0000 846349b894fb8ab473d5940ec70cae0  1210251251.1572441982  ...   \n",
       "513,091,887,291,771,392.0000   bf8e8d0a3026f468d80969ab351af4ce 119463514.1596533239   ...   \n",
       "1,483,772,560,735,865,856.0000 81f5fed7165c2ab7995465dbf6d5ee61 345467720.1512180611   ...   \n",
       "6,287,112,969,319,102,464.0000 37d0d3bf3d3c48261908dddd9cbf02cc 1463832559.1594111754  ...   \n",
       "\n",
       "                                                                                        url  \\\n",
       "fullVisitorId                  LotameID                         GAClientId                    \n",
       "8,547,876,345,369,880,576.0000 196c30f4cdae19dd70c4d634a38b6b37 1990207551.1572628814  1320   \n",
       "5,197,989,544,560,529,408.0000 846349b894fb8ab473d5940ec70cae0  1210251251.1572441982   519   \n",
       "513,091,887,291,771,392.0000   bf8e8d0a3026f468d80969ab351af4ce 119463514.1596533239    144   \n",
       "1,483,772,560,735,865,856.0000 81f5fed7165c2ab7995465dbf6d5ee61 345467720.1512180611     68   \n",
       "6,287,112,969,319,102,464.0000 37d0d3bf3d3c48261908dddd9cbf02cc 1463832559.1594111754    39   \n",
       "\n",
       "                                                                                       onPageTime  \\\n",
       "fullVisitorId                  LotameID                         GAClientId                          \n",
       "8,547,876,345,369,880,576.0000 196c30f4cdae19dd70c4d634a38b6b37 1990207551.1572628814        1320   \n",
       "5,197,989,544,560,529,408.0000 846349b894fb8ab473d5940ec70cae0  1210251251.1572441982         519   \n",
       "513,091,887,291,771,392.0000   bf8e8d0a3026f468d80969ab351af4ce 119463514.1596533239          144   \n",
       "1,483,772,560,735,865,856.0000 81f5fed7165c2ab7995465dbf6d5ee61 345467720.1512180611           68   \n",
       "6,287,112,969,319,102,464.0000 37d0d3bf3d3c48261908dddd9cbf02cc 1463832559.1594111754          39   \n",
       "\n",
       "                                                                                       nextTime  \\\n",
       "fullVisitorId                  LotameID                         GAClientId                        \n",
       "8,547,876,345,369,880,576.0000 196c30f4cdae19dd70c4d634a38b6b37 1990207551.1572628814      1320   \n",
       "5,197,989,544,560,529,408.0000 846349b894fb8ab473d5940ec70cae0  1210251251.1572441982       519   \n",
       "513,091,887,291,771,392.0000   bf8e8d0a3026f468d80969ab351af4ce 119463514.1596533239        144   \n",
       "1,483,772,560,735,865,856.0000 81f5fed7165c2ab7995465dbf6d5ee61 345467720.1512180611         68   \n",
       "6,287,112,969,319,102,464.0000 37d0d3bf3d3c48261908dddd9cbf02cc 1463832559.1594111754        39   \n",
       "\n",
       "                                                                                       user_active_days  \\\n",
       "fullVisitorId                  LotameID                         GAClientId                                \n",
       "8,547,876,345,369,880,576.0000 196c30f4cdae19dd70c4d634a38b6b37 1990207551.1572628814              1320   \n",
       "5,197,989,544,560,529,408.0000 846349b894fb8ab473d5940ec70cae0  1210251251.1572441982               519   \n",
       "513,091,887,291,771,392.0000   bf8e8d0a3026f468d80969ab351af4ce 119463514.1596533239                144   \n",
       "1,483,772,560,735,865,856.0000 81f5fed7165c2ab7995465dbf6d5ee61 345467720.1512180611                 68   \n",
       "6,287,112,969,319,102,464.0000 37d0d3bf3d3c48261908dddd9cbf02cc 1463832559.1594111754                39   \n",
       "\n",
       "                                                                                       total_visit_counts  \\\n",
       "fullVisitorId                  LotameID                         GAClientId                                  \n",
       "8,547,876,345,369,880,576.0000 196c30f4cdae19dd70c4d634a38b6b37 1990207551.1572628814                1320   \n",
       "5,197,989,544,560,529,408.0000 846349b894fb8ab473d5940ec70cae0  1210251251.1572441982                 519   \n",
       "513,091,887,291,771,392.0000   bf8e8d0a3026f468d80969ab351af4ce 119463514.1596533239                  144   \n",
       "1,483,772,560,735,865,856.0000 81f5fed7165c2ab7995465dbf6d5ee61 345467720.1512180611                   68   \n",
       "6,287,112,969,319,102,464.0000 37d0d3bf3d3c48261908dddd9cbf02cc 1463832559.1594111754                  39   \n",
       "\n",
       "                                                                                       total_unique_session  \\\n",
       "fullVisitorId                  LotameID                         GAClientId                                    \n",
       "8,547,876,345,369,880,576.0000 196c30f4cdae19dd70c4d634a38b6b37 1990207551.1572628814                  1320   \n",
       "5,197,989,544,560,529,408.0000 846349b894fb8ab473d5940ec70cae0  1210251251.1572441982                   519   \n",
       "513,091,887,291,771,392.0000   bf8e8d0a3026f468d80969ab351af4ce 119463514.1596533239                    144   \n",
       "1,483,772,560,735,865,856.0000 81f5fed7165c2ab7995465dbf6d5ee61 345467720.1512180611                     68   \n",
       "6,287,112,969,319,102,464.0000 37d0d3bf3d3c48261908dddd9cbf02cc 1463832559.1594111754                    39   \n",
       "\n",
       "                                                                                       total_time_spent  \\\n",
       "fullVisitorId                  LotameID                         GAClientId                                \n",
       "8,547,876,345,369,880,576.0000 196c30f4cdae19dd70c4d634a38b6b37 1990207551.1572628814              1320   \n",
       "5,197,989,544,560,529,408.0000 846349b894fb8ab473d5940ec70cae0  1210251251.1572441982               519   \n",
       "513,091,887,291,771,392.0000   bf8e8d0a3026f468d80969ab351af4ce 119463514.1596533239                144   \n",
       "1,483,772,560,735,865,856.0000 81f5fed7165c2ab7995465dbf6d5ee61 345467720.1512180611                 68   \n",
       "6,287,112,969,319,102,464.0000 37d0d3bf3d3c48261908dddd9cbf02cc 1463832559.1594111754                39   \n",
       "\n",
       "                                                                                       time_spent_per_session  \\\n",
       "fullVisitorId                  LotameID                         GAClientId                                      \n",
       "8,547,876,345,369,880,576.0000 196c30f4cdae19dd70c4d634a38b6b37 1990207551.1572628814                    1320   \n",
       "5,197,989,544,560,529,408.0000 846349b894fb8ab473d5940ec70cae0  1210251251.1572441982                     519   \n",
       "513,091,887,291,771,392.0000   bf8e8d0a3026f468d80969ab351af4ce 119463514.1596533239                      144   \n",
       "1,483,772,560,735,865,856.0000 81f5fed7165c2ab7995465dbf6d5ee61 345467720.1512180611                       68   \n",
       "6,287,112,969,319,102,464.0000 37d0d3bf3d3c48261908dddd9cbf02cc 1463832559.1594111754                      39   \n",
       "\n",
       "                                                                                       timeOnPage  \\\n",
       "fullVisitorId                  LotameID                         GAClientId                          \n",
       "8,547,876,345,369,880,576.0000 196c30f4cdae19dd70c4d634a38b6b37 1990207551.1572628814        1320   \n",
       "5,197,989,544,560,529,408.0000 846349b894fb8ab473d5940ec70cae0  1210251251.1572441982         519   \n",
       "513,091,887,291,771,392.0000   bf8e8d0a3026f468d80969ab351af4ce 119463514.1596533239          144   \n",
       "1,483,772,560,735,865,856.0000 81f5fed7165c2ab7995465dbf6d5ee61 345467720.1512180611           68   \n",
       "6,287,112,969,319,102,464.0000 37d0d3bf3d3c48261908dddd9cbf02cc 1463832559.1594111754          39   \n",
       "\n",
       "                                                                                       cookie_id  \n",
       "fullVisitorId                  LotameID                         GAClientId                        \n",
       "8,547,876,345,369,880,576.0000 196c30f4cdae19dd70c4d634a38b6b37 1990207551.1572628814       1320  \n",
       "5,197,989,544,560,529,408.0000 846349b894fb8ab473d5940ec70cae0  1210251251.1572441982        519  \n",
       "513,091,887,291,771,392.0000   bf8e8d0a3026f468d80969ab351af4ce 119463514.1596533239         144  \n",
       "1,483,772,560,735,865,856.0000 81f5fed7165c2ab7995465dbf6d5ee61 345467720.1512180611          68  \n",
       "6,287,112,969,319,102,464.0000 37d0d3bf3d3c48261908dddd9cbf02cc 1463832559.1594111754         39  \n",
       "\n",
       "[5 rows x 33 columns]"
      ]
     },
     "execution_count": 24,
     "metadata": {},
     "output_type": "execute_result"
    }
   ],
   "source": [
    "df.groupby(['fullVisitorId', 'LotameID', 'GAClientId']).count().sort_values('y', ascending=False).head(5)"
   ]
  },
  {
   "cell_type": "code",
   "execution_count": 25,
   "id": "1dd53911-1653-414c-9466-f3a35964f98d",
   "metadata": {},
   "outputs": [
    {
     "data": {
      "text/plain": [
       "42"
      ]
     },
     "execution_count": 25,
     "metadata": {},
     "output_type": "execute_result"
    }
   ],
   "source": [
    "df.groupby(['fullVisitorId', 'LotameID', 'GAClientId']).nunique()['y'].sum()"
   ]
  },
  {
   "cell_type": "markdown",
   "id": "6a541329-261f-4494-a035-9a24e2019aa2",
   "metadata": {},
   "source": [
    "<br><br><br>\n",
    "> Here I decide to take a look at the _mobile_ columns, because there's so many of them. <br>\n",
    "Just from eyeballing I see that the _mobileDeviceInfo_ and _mobileDeviceMarketingName_ seems quite redundant to _mobileDeviceBranding_ and _mobileDeviceModel_, and decide to just drop them."
   ]
  },
  {
   "cell_type": "code",
   "execution_count": 26,
   "id": "736483a4-579a-4a4f-879a-8f86998715bb",
   "metadata": {},
   "outputs": [
    {
     "data": {
      "text/html": [
       "<div>\n",
       "<style scoped>\n",
       "    .dataframe tbody tr th:only-of-type {\n",
       "        vertical-align: middle;\n",
       "    }\n",
       "\n",
       "    .dataframe tbody tr th {\n",
       "        vertical-align: top;\n",
       "    }\n",
       "\n",
       "    .dataframe thead th {\n",
       "        text-align: right;\n",
       "    }\n",
       "</style>\n",
       "<table border=\"1\" class=\"dataframe\">\n",
       "  <thead>\n",
       "    <tr style=\"text-align: right;\">\n",
       "      <th></th>\n",
       "      <th>mobileDeviceBranding</th>\n",
       "      <th>mobileDeviceModel</th>\n",
       "      <th>mobileInputSelector</th>\n",
       "      <th>mobileDeviceInfo</th>\n",
       "      <th>mobileDeviceMarketingName</th>\n",
       "    </tr>\n",
       "  </thead>\n",
       "  <tbody>\n",
       "    <tr>\n",
       "      <th>0</th>\n",
       "      <td>Xiaomi</td>\n",
       "      <td>Redmi 6A</td>\n",
       "      <td>touchscreen</td>\n",
       "      <td>Xiaomi Redmi 6A</td>\n",
       "      <td>(not set)</td>\n",
       "    </tr>\n",
       "    <tr>\n",
       "      <th>1</th>\n",
       "      <td>Xiaomi</td>\n",
       "      <td>Redmi 6A</td>\n",
       "      <td>touchscreen</td>\n",
       "      <td>Xiaomi Redmi 6A</td>\n",
       "      <td>(not set)</td>\n",
       "    </tr>\n",
       "    <tr>\n",
       "      <th>2</th>\n",
       "      <td>Xiaomi</td>\n",
       "      <td>Redmi 6A</td>\n",
       "      <td>touchscreen</td>\n",
       "      <td>Xiaomi Redmi 6A</td>\n",
       "      <td>(not set)</td>\n",
       "    </tr>\n",
       "    <tr>\n",
       "      <th>3</th>\n",
       "      <td>Windows</td>\n",
       "      <td>Windows</td>\n",
       "      <td>cursor</td>\n",
       "      <td>Windows</td>\n",
       "      <td>Windows</td>\n",
       "    </tr>\n",
       "    <tr>\n",
       "      <th>4</th>\n",
       "      <td>Windows</td>\n",
       "      <td>Windows</td>\n",
       "      <td>cursor</td>\n",
       "      <td>Windows</td>\n",
       "      <td>Windows</td>\n",
       "    </tr>\n",
       "    <tr>\n",
       "      <th>...</th>\n",
       "      <td>...</td>\n",
       "      <td>...</td>\n",
       "      <td>...</td>\n",
       "      <td>...</td>\n",
       "      <td>...</td>\n",
       "    </tr>\n",
       "    <tr>\n",
       "      <th>2356</th>\n",
       "      <td>Huawei</td>\n",
       "      <td>EML-L29</td>\n",
       "      <td>touchscreen</td>\n",
       "      <td>Huawei EML-L29 P20</td>\n",
       "      <td>P20</td>\n",
       "    </tr>\n",
       "    <tr>\n",
       "      <th>2357</th>\n",
       "      <td>Huawei</td>\n",
       "      <td>EML-L29</td>\n",
       "      <td>touchscreen</td>\n",
       "      <td>Huawei EML-L29 P20</td>\n",
       "      <td>P20</td>\n",
       "    </tr>\n",
       "    <tr>\n",
       "      <th>2358</th>\n",
       "      <td>Huawei</td>\n",
       "      <td>EML-L29</td>\n",
       "      <td>touchscreen</td>\n",
       "      <td>Huawei EML-L29 P20</td>\n",
       "      <td>P20</td>\n",
       "    </tr>\n",
       "    <tr>\n",
       "      <th>2359</th>\n",
       "      <td>Huawei</td>\n",
       "      <td>EML-L29</td>\n",
       "      <td>touchscreen</td>\n",
       "      <td>Huawei EML-L29 P20</td>\n",
       "      <td>P20</td>\n",
       "    </tr>\n",
       "    <tr>\n",
       "      <th>2360</th>\n",
       "      <td>Huawei</td>\n",
       "      <td>EML-L29</td>\n",
       "      <td>touchscreen</td>\n",
       "      <td>Huawei EML-L29 P20</td>\n",
       "      <td>P20</td>\n",
       "    </tr>\n",
       "  </tbody>\n",
       "</table>\n",
       "<p>2361 rows × 5 columns</p>\n",
       "</div>"
      ],
      "text/plain": [
       "     mobileDeviceBranding mobileDeviceModel mobileInputSelector  \\\n",
       "0                  Xiaomi          Redmi 6A         touchscreen   \n",
       "1                  Xiaomi          Redmi 6A         touchscreen   \n",
       "2                  Xiaomi          Redmi 6A         touchscreen   \n",
       "3                 Windows           Windows              cursor   \n",
       "4                 Windows           Windows              cursor   \n",
       "...                   ...               ...                 ...   \n",
       "2356               Huawei           EML-L29         touchscreen   \n",
       "2357               Huawei           EML-L29         touchscreen   \n",
       "2358               Huawei           EML-L29         touchscreen   \n",
       "2359               Huawei           EML-L29         touchscreen   \n",
       "2360               Huawei           EML-L29         touchscreen   \n",
       "\n",
       "        mobileDeviceInfo mobileDeviceMarketingName  \n",
       "0        Xiaomi Redmi 6A                 (not set)  \n",
       "1        Xiaomi Redmi 6A                 (not set)  \n",
       "2        Xiaomi Redmi 6A                 (not set)  \n",
       "3                Windows                   Windows  \n",
       "4                Windows                   Windows  \n",
       "...                  ...                       ...  \n",
       "2356  Huawei EML-L29 P20                       P20  \n",
       "2357  Huawei EML-L29 P20                       P20  \n",
       "2358  Huawei EML-L29 P20                       P20  \n",
       "2359  Huawei EML-L29 P20                       P20  \n",
       "2360  Huawei EML-L29 P20                       P20  \n",
       "\n",
       "[2361 rows x 5 columns]"
      ]
     },
     "execution_count": 26,
     "metadata": {},
     "output_type": "execute_result"
    }
   ],
   "source": [
    "mobile_cols = df.columns[df.columns.str.find('mobile')>=0]\n",
    "\n",
    "df[mobile_cols]"
   ]
  },
  {
   "cell_type": "code",
   "execution_count": 27,
   "id": "a2fdbe65-d59c-4f92-b9e6-d12321543399",
   "metadata": {},
   "outputs": [
    {
     "data": {
      "text/plain": [
       "Index(['LotameID', 'y', 'browser', 'operatingSystem', 'operatingSystemVersion',\n",
       "       'isMobile', 'mobileDeviceBranding', 'mobileDeviceModel',\n",
       "       'mobileInputSelector', 'screenResolution', 'language', 'continent',\n",
       "       'subContinent', 'country', 'region', 'city', 'sec', 'sub_sec',\n",
       "       'pageTitle', 'url', 'onPageTime', 'nextTime', 'user_active_days',\n",
       "       'total_visit_counts', 'total_unique_session', 'total_time_spent',\n",
       "       'time_spent_per_session', 'timeOnPage'],\n",
       "      dtype='object')"
      ]
     },
     "execution_count": 27,
     "metadata": {},
     "output_type": "execute_result"
    }
   ],
   "source": [
    "to_drop = [\n",
    "    'fullVisitorId',\n",
    "    'AudienceID',\n",
    "    'GAClientId',\n",
    "    'cookie_id',\n",
    "    'Name',\n",
    "    'Type',\n",
    "    'mobileDeviceInfo',\n",
    "    'mobileDeviceMarketingName'\n",
    "]\n",
    "\n",
    "df.drop(to_drop, axis=1, inplace=True)\n",
    "df = df.drop_duplicates().reset_index(drop=True)\n",
    "\n",
    "df.columns"
   ]
  },
  {
   "cell_type": "markdown",
   "id": "863918a1-2b57-4971-9e21-e8cd30c83daf",
   "metadata": {},
   "source": [
    "<br><br><br>\n",
    "> Now that we dropped some of the unneeded columns and deduped the rows, I wanna look back at _sec_ because I noticed that some of them didn't seem like 'sections', but were just page titles. <br>\n",
    "It's going to be a problem if there's too many unique values if we decide to do one-hot encoding since it'll generate alot of features. <br><br>\n",
    "We don't want the number of features to be have a high proportion to our number of observations. <br>\n",
    "\n",
    "\n",
    "> After some checks, I decided generalize some of the values in _sec_ <br>\n",
    "> * values like ```search?keywords...``` -> ```search```\n",
    "> * values like ```business?page...``` -> ```business```\n",
    "> * page titles like ```berbulu-telin...``` -> ```general```\n",
    "> * empty values ``` ``` -> ```home```\n",
    ">\n",
    "> With this I managed to narrow down from 89 unique values to only 12.\n",
    ">\n",
    "> There might be more accurate ways to represent this, but I'm unable to come up with a better solution without a better understanding of the data. Hence:\n",
    "> * _Is there a better way to group ```sec``` and ```sub_sec```?_\n",
    "\n"
   ]
  },
  {
   "cell_type": "code",
   "execution_count": 28,
   "id": "b9c87bdd-0e03-494b-86fe-8e97e566e8ec",
   "metadata": {},
   "outputs": [
    {
     "name": "stdout",
     "output_type": "stream",
     "text": [
      "Unique values: 89\n"
     ]
    },
    {
     "data": {
      "text/html": [
       "<div>\n",
       "<style scoped>\n",
       "    .dataframe tbody tr th:only-of-type {\n",
       "        vertical-align: middle;\n",
       "    }\n",
       "\n",
       "    .dataframe tbody tr th {\n",
       "        vertical-align: top;\n",
       "    }\n",
       "\n",
       "    .dataframe thead th {\n",
       "        text-align: right;\n",
       "    }\n",
       "</style>\n",
       "<table border=\"1\" class=\"dataframe\">\n",
       "  <thead>\n",
       "    <tr style=\"text-align: right;\">\n",
       "      <th></th>\n",
       "      <th>sec</th>\n",
       "    </tr>\n",
       "  </thead>\n",
       "  <tbody>\n",
       "    <tr>\n",
       "      <th>news</th>\n",
       "      <td>308</td>\n",
       "    </tr>\n",
       "    <tr>\n",
       "      <th></th>\n",
       "      <td>285</td>\n",
       "    </tr>\n",
       "    <tr>\n",
       "      <th>world</th>\n",
       "      <td>83</td>\n",
       "    </tr>\n",
       "    <tr>\n",
       "      <th>lifestyle</th>\n",
       "      <td>46</td>\n",
       "    </tr>\n",
       "    <tr>\n",
       "      <th>sports</th>\n",
       "      <td>33</td>\n",
       "    </tr>\n",
       "    <tr>\n",
       "      <th>business</th>\n",
       "      <td>32</td>\n",
       "    </tr>\n",
       "    <tr>\n",
       "      <th>opinion</th>\n",
       "      <td>13</td>\n",
       "    </tr>\n",
       "    <tr>\n",
       "      <th>my</th>\n",
       "      <td>10</td>\n",
       "    </tr>\n",
       "    <tr>\n",
       "      <th>kantoi-masuk-bilik-tidur-anak-tiri-isteri-tetak-kemaluan-suami-lepas-tengok-rakaman-web-cam</th>\n",
       "      <td>8</td>\n",
       "    </tr>\n",
       "    <tr>\n",
       "      <th>wanita-dirogol-6-lelaki-di-hadapan-suami-2-orang-anak-ketika-dalam-perjalanan-pulang-dari-kebun</th>\n",
       "      <td>7</td>\n",
       "    </tr>\n",
       "    <tr>\n",
       "      <th>datuk-74-tahun-maut-selepas-tunai-hajat-di-rumah-pelacuran-polis-jumpa-ubat-kuat</th>\n",
       "      <td>6</td>\n",
       "    </tr>\n",
       "    <tr>\n",
       "      <th>suami-jual-isteri-peroleh-hampir-rm3k-sebulan-saya-sakit-hati-tengok-dia-lakukan-hubungan-intim-tapi</th>\n",
       "      <td>4</td>\n",
       "    </tr>\n",
       "    <tr>\n",
       "      <th>berbulu-telinga-netizen-dengar-haris-terang-maksud-ayat-tak-akan-saya-pula-nak-angkat-beras</th>\n",
       "      <td>4</td>\n",
       "    </tr>\n",
       "    <tr>\n",
       "      <th>berlaku-pendarahan-tisu-koyak-keputusan-bedah-siasat-kali-kedua-sahkan-luka-paha-kanan-tangmo-terjadi-sebelum-kematian</th>\n",
       "      <td>3</td>\n",
       "    </tr>\n",
       "    <tr>\n",
       "      <th>minggu-depan-kahwin-gadis-cekal-tunang-minta-putus-sempat-beri-alasan-tak-boleh-tinggalkan-bff-perempuan-dia</th>\n",
       "      <td>3</td>\n",
       "    </tr>\n",
       "    <tr>\n",
       "      <th>didakwa-makin-kurus-sebab-banyak-makan-hati-isteri-shuk-sahar-pilih-fokus-diri-dengan-anak-anak</th>\n",
       "      <td>2</td>\n",
       "    </tr>\n",
       "    <tr>\n",
       "      <th>tak-pernah-anggap-diri-sebagai-rakyat-malaysia-finalis-miss-malaysia-teruk-dikecam-saya-minta-maaf-kepada-semua-yang-terlibat</th>\n",
       "      <td>2</td>\n",
       "    </tr>\n",
       "    <tr>\n",
       "      <th>keluar-berbuka-puasa-bersama-yasmin-hani-alif-hadi-bercinta</th>\n",
       "      <td>2</td>\n",
       "    </tr>\n",
       "    <tr>\n",
       "      <th>rayahavoc2022</th>\n",
       "      <td>2</td>\n",
       "    </tr>\n",
       "    <tr>\n",
       "      <th>video-nak-marah-tapi-kena-sabar-anak-diam-rupanya-masuk-sangkar-kucing</th>\n",
       "      <td>2</td>\n",
       "    </tr>\n",
       "  </tbody>\n",
       "</table>\n",
       "</div>"
      ],
      "text/plain": [
       "                                                    sec\n",
       "news                                                308\n",
       "                                                    285\n",
       "world                                                83\n",
       "lifestyle                                            46\n",
       "sports                                               33\n",
       "business                                             32\n",
       "opinion                                              13\n",
       "my                                                   10\n",
       "kantoi-masuk-bilik-tidur-anak-tiri-isteri-tetak...    8\n",
       "wanita-dirogol-6-lelaki-di-hadapan-suami-2-oran...    7\n",
       "datuk-74-tahun-maut-selepas-tunai-hajat-di-ruma...    6\n",
       "suami-jual-isteri-peroleh-hampir-rm3k-sebulan-s...    4\n",
       "berbulu-telinga-netizen-dengar-haris-terang-mak...    4\n",
       "berlaku-pendarahan-tisu-koyak-keputusan-bedah-s...    3\n",
       "minggu-depan-kahwin-gadis-cekal-tunang-minta-pu...    3\n",
       "didakwa-makin-kurus-sebab-banyak-makan-hati-ist...    2\n",
       "tak-pernah-anggap-diri-sebagai-rakyat-malaysia-...    2\n",
       "keluar-berbuka-puasa-bersama-yasmin-hani-alif-h...    2\n",
       "rayahavoc2022                                         2\n",
       "video-nak-marah-tapi-kena-sabar-anak-diam-rupan...    2"
      ]
     },
     "execution_count": 28,
     "metadata": {},
     "output_type": "execute_result"
    }
   ],
   "source": [
    "print('Unique values:', df['sec'].nunique())\n",
    "pd.DataFrame(df['sec'].value_counts().head(20))"
   ]
  },
  {
   "cell_type": "code",
   "execution_count": 29,
   "id": "acf507c3-e12e-4e96-9a24-b3d7053b2453",
   "metadata": {},
   "outputs": [
    {
     "data": {
      "text/plain": [
       "146                             business?page=1\n",
       "147                             business?page=2\n",
       "148                             business?page=3\n",
       "151                             business?page=4\n",
       "153                             business?page=5\n",
       "156                             business?page=6\n",
       "158                       search?keywords=etoro\n",
       "159                search?keywords=etoro&page=1\n",
       "160                       search?keywords=etoro\n",
       "161         search?keywords=gleneagles hospital\n",
       "162                    search?keywords=hospital\n",
       "163            search?keywords=hospital revenue\n",
       "165     search?keywords=hospital revenue&page=1\n",
       "167    search?keywords=hospital medical revenue\n",
       "168              search?keywords=KPJ healthcare\n",
       "563               search?keywords=seniman agung\n",
       "564        search?keywords=seniman agung&page=1\n",
       "Name: sec, dtype: object"
      ]
     },
     "execution_count": 29,
     "metadata": {},
     "output_type": "execute_result"
    }
   ],
   "source": [
    "df[(df['sec'].str.find('search?')>=0) | (df['sec'].str.find('business?')>=0)]['sec']"
   ]
  },
  {
   "cell_type": "code",
   "execution_count": 30,
   "id": "0e6729e0-471e-4aac-97a6-6c104984a9ce",
   "metadata": {},
   "outputs": [
    {
     "data": {
      "text/plain": [
       "https://www.nst.com.my/    281\n",
       "https://ohbulan.com/         4\n",
       "Name: url, dtype: int64"
      ]
     },
     "execution_count": 30,
     "metadata": {},
     "output_type": "execute_result"
    }
   ],
   "source": [
    "df[(df['sec']=='')]['url'].value_counts()"
   ]
  },
  {
   "cell_type": "code",
   "execution_count": 31,
   "id": "16d07acb-311e-4757-9280-44cb9dfa3145",
   "metadata": {},
   "outputs": [],
   "source": [
    "business_idx = df[df['sec'].str.find('business?')>=0].index\n",
    "search_idx = df[df['sec'].str.find('search?')>=0].index\n",
    "general_idx = df[(df['sec'].str.find('-')>=1)]['sec'].index\n",
    "home_idx = df[(df['sec']=='')]['sec'].index\n",
    "\n",
    "df.loc[business_idx, 'sec'] = 'business'\n",
    "df.loc[search_idx, 'sec'] = 'search'\n",
    "df.loc[general_idx, 'sec'] = 'general'\n",
    "df.loc[home_idx, 'sec'] = 'home'"
   ]
  },
  {
   "cell_type": "code",
   "execution_count": 32,
   "id": "36f238e2-d206-437d-8b32-3b8fae77a9bb",
   "metadata": {},
   "outputs": [
    {
     "name": "stdout",
     "output_type": "stream",
     "text": [
      "Unique values: 12\n"
     ]
    },
    {
     "data": {
      "text/html": [
       "<div>\n",
       "<style scoped>\n",
       "    .dataframe tbody tr th:only-of-type {\n",
       "        vertical-align: middle;\n",
       "    }\n",
       "\n",
       "    .dataframe tbody tr th {\n",
       "        vertical-align: top;\n",
       "    }\n",
       "\n",
       "    .dataframe thead th {\n",
       "        text-align: right;\n",
       "    }\n",
       "</style>\n",
       "<table border=\"1\" class=\"dataframe\">\n",
       "  <thead>\n",
       "    <tr style=\"text-align: right;\">\n",
       "      <th></th>\n",
       "      <th>sec</th>\n",
       "    </tr>\n",
       "  </thead>\n",
       "  <tbody>\n",
       "    <tr>\n",
       "      <th>news</th>\n",
       "      <td>308</td>\n",
       "    </tr>\n",
       "    <tr>\n",
       "      <th>home</th>\n",
       "      <td>285</td>\n",
       "    </tr>\n",
       "    <tr>\n",
       "      <th>general</th>\n",
       "      <td>107</td>\n",
       "    </tr>\n",
       "    <tr>\n",
       "      <th>world</th>\n",
       "      <td>83</td>\n",
       "    </tr>\n",
       "    <tr>\n",
       "      <th>lifestyle</th>\n",
       "      <td>46</td>\n",
       "    </tr>\n",
       "    <tr>\n",
       "      <th>business</th>\n",
       "      <td>38</td>\n",
       "    </tr>\n",
       "    <tr>\n",
       "      <th>sports</th>\n",
       "      <td>33</td>\n",
       "    </tr>\n",
       "    <tr>\n",
       "      <th>opinion</th>\n",
       "      <td>13</td>\n",
       "    </tr>\n",
       "    <tr>\n",
       "      <th>search</th>\n",
       "      <td>11</td>\n",
       "    </tr>\n",
       "    <tr>\n",
       "      <th>my</th>\n",
       "      <td>10</td>\n",
       "    </tr>\n",
       "    <tr>\n",
       "      <th>property</th>\n",
       "      <td>2</td>\n",
       "    </tr>\n",
       "    <tr>\n",
       "      <th>rayahavoc2022</th>\n",
       "      <td>2</td>\n",
       "    </tr>\n",
       "  </tbody>\n",
       "</table>\n",
       "</div>"
      ],
      "text/plain": [
       "               sec\n",
       "news           308\n",
       "home           285\n",
       "general        107\n",
       "world           83\n",
       "lifestyle       46\n",
       "business        38\n",
       "sports          33\n",
       "opinion         13\n",
       "search          11\n",
       "my              10\n",
       "property         2\n",
       "rayahavoc2022    2"
      ]
     },
     "execution_count": 32,
     "metadata": {},
     "output_type": "execute_result"
    }
   ],
   "source": [
    "print('Unique values:', df['sec'].nunique())\n",
    "pd.DataFrame(df['sec'].value_counts())"
   ]
  },
  {
   "cell_type": "markdown",
   "id": "aed4b751-2144-4579-98c9-59368c444b1a",
   "metadata": {},
   "source": [
    "<br><br><br>\n",
    "> Another thing I felt might be interesting was to see what sites were actually visited. Just a quick hypothesis that popped on my head was:\n",
    "> * _Different websites would have different distribution of HHI groups_\n",
    "\n",
    "> After doing a quick check, unfortunately in this dataset there weren't many websites included. Only 3, with NST making up the majority of it. <br>\n",
    "Nonetheless, it might be interesting to see create a new feature from this and see if it actually impacts the result."
   ]
  },
  {
   "cell_type": "code",
   "execution_count": 33,
   "id": "dc087766-7bcc-4aa8-8520-71c306b4610b",
   "metadata": {},
   "outputs": [
    {
     "data": {
      "text/plain": [
       "0     https://ohbulan.com/video-nak-marah-tapi-kena-...\n",
       "1     https://ohbulan.com/suami-jual-isteri-peroleh-...\n",
       "2     https://ohbulan.com/suami-jual-isteri-peroleh-...\n",
       "3     https://ohbulan.com/rakyat-malaysia-maut-dibun...\n",
       "4     https://ohbulan.com/datuk-74-tahun-maut-selepa...\n",
       "5     https://ohbulan.com/berlaku-pendarahan-tisu-ko...\n",
       "6     https://www.nst.com.my/news/nation/2022/04/787...\n",
       "7     https://www.nst.com.my/news/nation/2022/03/782...\n",
       "8     https://ohbulan.com/video-bekas-juara-hero-rem...\n",
       "9     https://ohbulan.com/video-aedy-ashraf-buat-kej...\n",
       "10    https://ohbulan.com/wanita-dirogol-6-lelaki-di...\n",
       "11    https://ohbulan.com/wanita-dirogol-6-lelaki-di...\n",
       "12                                 https://ohbulan.com/\n",
       "13    https://says.com/my/news/sg-rolls-royce-holds-...\n",
       "14                              https://www.nst.com.my/\n",
       "15    https://www.nst.com.my/sports/badminton/2022/0...\n",
       "16                         https://www.nst.com.my/world\n",
       "17    https://www.nst.com.my/world/region/2022/03/77...\n",
       "18                     https://www.nst.com.my/lifestyle\n",
       "19                     https://www.nst.com.my/lifestyle\n",
       "Name: url, dtype: object"
      ]
     },
     "execution_count": 33,
     "metadata": {},
     "output_type": "execute_result"
    }
   ],
   "source": [
    "df['url'].head(20)"
   ]
  },
  {
   "cell_type": "code",
   "execution_count": 34,
   "id": "9e417404-e7d3-4eba-bc08-77d2b75835da",
   "metadata": {},
   "outputs": [],
   "source": [
    "df['base_url'] = df['url'].str.extract(r'(^http.*?(com\\/|my\\/))')[0]"
   ]
  },
  {
   "cell_type": "code",
   "execution_count": 35,
   "id": "78e2aee2-b0c2-4a94-8095-1faf5b4b4380",
   "metadata": {},
   "outputs": [
    {
     "data": {
      "text/plain": [
       "https://www.nst.com.my/    815\n",
       "https://ohbulan.com/       113\n",
       "https://says.com/           10\n",
       "Name: base_url, dtype: int64"
      ]
     },
     "execution_count": 35,
     "metadata": {},
     "output_type": "execute_result"
    }
   ],
   "source": [
    "df['base_url'].value_counts()"
   ]
  },
  {
   "cell_type": "markdown",
   "id": "b44466a9-724c-4dc1-bd9c-aab0a89cc4f1",
   "metadata": {},
   "source": [
    "<br><br><br>\n",
    "> I noticed that some values in _pageTitle_ had a [VIDEO] substring at the start. Out of curiosity, it might be interesting to see if labelling these sites would have an impact on the model."
   ]
  },
  {
   "cell_type": "code",
   "execution_count": 36,
   "id": "b7d93dc2-c48f-454b-9b42-6fbf61ee9d59",
   "metadata": {},
   "outputs": [
    {
     "data": {
      "text/plain": [
       "0      [VIDEO] Nak Marah Tapi Kena Sabar, Anak Diam R...\n",
       "1      Suami Jual Isteri, Peroleh Hampir RM3k Sebulan...\n",
       "2      Suami Jual Isteri, Peroleh Hampir RM3k Sebulan...\n",
       "3      Rakyat Malaysia Maut 'Dibunuh' Di Australia, D...\n",
       "4      Datuk 74 Tahun Maut Selepas Tunai 'Hajat' Di R...\n",
       "                             ...                        \n",
       "933      'Let market forces decide Sapura Energy's fate'\n",
       "934    Malaysia 'happier' than China but not as 'happ...\n",
       "935    Surging semiconductor ASPs, higher oil prices ...\n",
       "936    Surging semiconductor ASPs, higher oil prices ...\n",
       "937    Surging semiconductor ASPs, higher oil prices ...\n",
       "Name: pageTitle, Length: 938, dtype: object"
      ]
     },
     "execution_count": 36,
     "metadata": {},
     "output_type": "execute_result"
    }
   ],
   "source": [
    "df['pageTitle']"
   ]
  },
  {
   "cell_type": "code",
   "execution_count": 37,
   "id": "77279ed5-d557-4966-aa29-cf98bc23220a",
   "metadata": {},
   "outputs": [
    {
     "data": {
      "text/plain": [
       "False    922\n",
       "True      16\n",
       "Name: containsVideo, dtype: int64"
      ]
     },
     "execution_count": 37,
     "metadata": {},
     "output_type": "execute_result"
    }
   ],
   "source": [
    "df['containsVideo'] = df['pageTitle'].str.find('VIDEO')>=0\n",
    "df['containsVideo'].value_counts()"
   ]
  },
  {
   "cell_type": "markdown",
   "id": "a7c6899b-a957-45db-a6ea-07ee68e9a960",
   "metadata": {},
   "source": [
    "<br><br><br>\n",
    "### Numerical features\n",
    "> That'll do for the string columns. For the numeric features, some questions I thought of before starting anything was:\n",
    "> * _What are the definitions?_\n",
    "> * _How reliable are the features?_ (from previous)\n",
    "> * _Are there any features we can derive that can improve the model?_\n",
    "> * _Are there any high correlation features we can drop?_\n",
    "\n",
    "> I tried my best to answer these questions but unfortunately I felt like I was spending more time than I anticipated in this process. <br>\n",
    "I was also starting to go down further into different rabbit holes that didn't really provide much impact as I hoped. <br>\n",
    "Hence I couldn't really do a very thorough analysis on this part due to time constraints even though it's the most exciting section. <br><br>\n",
    "I also **decided to not include the codes that I did for this** as it was half-finished and would just seem confusing. I shall just summarize the insights I gained.\n",
    "\n",
    "> Some findings:\n",
    "> * When trying to understand the definition of _onPageTime_ & _timeOnPage_ and trying to verify their integrity, I simply found that ```timeOnPage = nextTime - onPageTime```.\n",
    "> * _onPageTime_ and _nextTime_ seems like some kind of timestamp, but I couldn't really make out the format (is it seconds relative to the time the site was opened?)\n",
    "> * I would assume that ```time_spent_per_session = total_time_spent / total_unique_session``` but it didn't tally with manually made the calculations.\n",
    "> * Some of the features had absurdly high max values that didn't make sense, hence later on we'll need to remove outliers."
   ]
  },
  {
   "cell_type": "code",
   "execution_count": 38,
   "id": "a67c541b-c768-4d5b-9bd5-cf308d188463",
   "metadata": {},
   "outputs": [
    {
     "data": {
      "text/html": [
       "<div>\n",
       "<style scoped>\n",
       "    .dataframe tbody tr th:only-of-type {\n",
       "        vertical-align: middle;\n",
       "    }\n",
       "\n",
       "    .dataframe tbody tr th {\n",
       "        vertical-align: top;\n",
       "    }\n",
       "\n",
       "    .dataframe thead th {\n",
       "        text-align: right;\n",
       "    }\n",
       "</style>\n",
       "<table border=\"1\" class=\"dataframe\">\n",
       "  <thead>\n",
       "    <tr style=\"text-align: right;\">\n",
       "      <th></th>\n",
       "      <th>onPageTime</th>\n",
       "      <th>nextTime</th>\n",
       "      <th>user_active_days</th>\n",
       "      <th>total_visit_counts</th>\n",
       "      <th>total_unique_session</th>\n",
       "      <th>total_time_spent</th>\n",
       "      <th>time_spent_per_session</th>\n",
       "      <th>timeOnPage</th>\n",
       "    </tr>\n",
       "  </thead>\n",
       "  <tbody>\n",
       "    <tr>\n",
       "      <th>count</th>\n",
       "      <td>938.0000</td>\n",
       "      <td>938.0000</td>\n",
       "      <td>938.0000</td>\n",
       "      <td>938.0000</td>\n",
       "      <td>938.0000</td>\n",
       "      <td>938.0000</td>\n",
       "      <td>938.0000</td>\n",
       "      <td>938.0000</td>\n",
       "    </tr>\n",
       "    <tr>\n",
       "      <th>mean</th>\n",
       "      <td>248,211.5235</td>\n",
       "      <td>393,353.9104</td>\n",
       "      <td>20.3124</td>\n",
       "      <td>1,940.0778</td>\n",
       "      <td>51.7303</td>\n",
       "      <td>122,135.4009</td>\n",
       "      <td>645.6652</td>\n",
       "      <td>145,142.3870</td>\n",
       "    </tr>\n",
       "    <tr>\n",
       "      <th>std</th>\n",
       "      <td>401,806.5821</td>\n",
       "      <td>480,063.1835</td>\n",
       "      <td>8.2993</td>\n",
       "      <td>1,198.0066</td>\n",
       "      <td>28.6755</td>\n",
       "      <td>94,941.0719</td>\n",
       "      <td>596.1814</td>\n",
       "      <td>269,142.5100</td>\n",
       "    </tr>\n",
       "    <tr>\n",
       "      <th>min</th>\n",
       "      <td>0.0000</td>\n",
       "      <td>4,553.0000</td>\n",
       "      <td>1.0000</td>\n",
       "      <td>1.0000</td>\n",
       "      <td>1.0000</td>\n",
       "      <td>54.0000</td>\n",
       "      <td>8.0000</td>\n",
       "      <td>213.0000</td>\n",
       "    </tr>\n",
       "    <tr>\n",
       "      <th>25%</th>\n",
       "      <td>1,037.2500</td>\n",
       "      <td>89,398.0000</td>\n",
       "      <td>14.0000</td>\n",
       "      <td>760.0000</td>\n",
       "      <td>19.0000</td>\n",
       "      <td>24,783.0000</td>\n",
       "      <td>213.2500</td>\n",
       "      <td>23,987.0000</td>\n",
       "    </tr>\n",
       "    <tr>\n",
       "      <th>50%</th>\n",
       "      <td>81,599.0000</td>\n",
       "      <td>221,514.5000</td>\n",
       "      <td>24.0000</td>\n",
       "      <td>2,041.0000</td>\n",
       "      <td>71.0000</td>\n",
       "      <td>97,538.0000</td>\n",
       "      <td>482.0000</td>\n",
       "      <td>63,395.5000</td>\n",
       "    </tr>\n",
       "    <tr>\n",
       "      <th>75%</th>\n",
       "      <td>303,544.2500</td>\n",
       "      <td>500,900.7500</td>\n",
       "      <td>25.0000</td>\n",
       "      <td>3,328.0000</td>\n",
       "      <td>73.0000</td>\n",
       "      <td>243,007.0000</td>\n",
       "      <td>822.0000</td>\n",
       "      <td>132,645.0000</td>\n",
       "    </tr>\n",
       "    <tr>\n",
       "      <th>max</th>\n",
       "      <td>2,448,447.0000</td>\n",
       "      <td>3,805,761.0000</td>\n",
       "      <td>30.0000</td>\n",
       "      <td>3,328.0000</td>\n",
       "      <td>79.0000</td>\n",
       "      <td>243,007.0000</td>\n",
       "      <td>3,806.0000</td>\n",
       "      <td>2,357,471.0000</td>\n",
       "    </tr>\n",
       "  </tbody>\n",
       "</table>\n",
       "</div>"
      ],
      "text/plain": [
       "                onPageTime             nextTime     user_active_days  \\\n",
       "count             938.0000             938.0000             938.0000   \n",
       "mean          248,211.5235         393,353.9104              20.3124   \n",
       "std           401,806.5821         480,063.1835               8.2993   \n",
       "min                 0.0000           4,553.0000               1.0000   \n",
       "25%             1,037.2500          89,398.0000              14.0000   \n",
       "50%            81,599.0000         221,514.5000              24.0000   \n",
       "75%           303,544.2500         500,900.7500              25.0000   \n",
       "max         2,448,447.0000       3,805,761.0000              30.0000   \n",
       "\n",
       "        total_visit_counts  total_unique_session     total_time_spent  \\\n",
       "count             938.0000              938.0000             938.0000   \n",
       "mean            1,940.0778               51.7303         122,135.4009   \n",
       "std             1,198.0066               28.6755          94,941.0719   \n",
       "min                 1.0000                1.0000              54.0000   \n",
       "25%               760.0000               19.0000          24,783.0000   \n",
       "50%             2,041.0000               71.0000          97,538.0000   \n",
       "75%             3,328.0000               73.0000         243,007.0000   \n",
       "max             3,328.0000               79.0000         243,007.0000   \n",
       "\n",
       "       time_spent_per_session           timeOnPage  \n",
       "count                938.0000             938.0000  \n",
       "mean                 645.6652         145,142.3870  \n",
       "std                  596.1814         269,142.5100  \n",
       "min                    8.0000             213.0000  \n",
       "25%                  213.2500          23,987.0000  \n",
       "50%                  482.0000          63,395.5000  \n",
       "75%                  822.0000         132,645.0000  \n",
       "max                3,806.0000       2,357,471.0000  "
      ]
     },
     "execution_count": 38,
     "metadata": {},
     "output_type": "execute_result"
    }
   ],
   "source": [
    "df.describe()"
   ]
  },
  {
   "cell_type": "code",
   "execution_count": 39,
   "id": "859f89c2-e19d-4cd9-bc3a-98aa874a5766",
   "metadata": {},
   "outputs": [
    {
     "name": "stderr",
     "output_type": "stream",
     "text": [
      "C:\\Users\\DataMicron\\AppData\\Local\\Temp\\ipykernel_20528\\2523787037.py:1: FutureWarning: The default value of numeric_only in DataFrame.corr is deprecated. In a future version, it will default to False. Select only valid columns or specify the value of numeric_only to silence this warning.\n",
      "  heatmap(df.corr(), annot=True)\n"
     ]
    },
    {
     "data": {
      "text/plain": [
       "<Axes: >"
      ]
     },
     "execution_count": 39,
     "metadata": {},
     "output_type": "execute_result"
    },
    {
     "data": {
      "image/png": "[encoded data removed]",
      "text/plain": [
       "<Figure size 640x480 with 2 Axes>"
      ]
     },
     "metadata": {},
     "output_type": "display_data"
    }
   ],
   "source": [
    "heatmap(df.corr(), annot=True)"
   ]
  },
  {
   "cell_type": "code",
   "execution_count": null,
   "id": "856881f4-f9f6-4f4a-83ae-96ff6557d555",
   "metadata": {},
   "outputs": [],
   "source": []
  },
  {
   "cell_type": "code",
   "execution_count": null,
   "id": "66c229ba-311f-47df-9659-f9da171272f2",
   "metadata": {},
   "outputs": [],
   "source": []
  },
  {
   "cell_type": "code",
   "execution_count": null,
   "id": "32e91f55-d64d-4c7e-8480-9dfb46d3f263",
   "metadata": {},
   "outputs": [],
   "source": []
  },
  {
   "cell_type": "markdown",
   "id": "d547540d-9506-4996-9da2-81fb421d7aa2",
   "metadata": {},
   "source": [
    "## Removing Outliers\n",
    "\n",
    "> The features that had very high max values (relative to the mean and quantiles) were mainly features that were related to 'time'. <br><br>\n",
    "To be more specific, it's these features:\n",
    "> * time_spent_per_session\n",
    "> * onPageTime\n",
    "> * nextTime\n",
    "> * timeOnPage\n",
    "\n",
    "> Since _timeOnPage_ is derived, removing the outliers for this feature alone should also resolve outlier issues with _onPageTime_ and _nextTime_ <br><br>\n",
    "So I decided to remove outliers for _time_spent_per_session_ and _timeOnPage_ using the basic **1.5*IQR rule**.\n",
    "\n",
    "> A total of 129 rows were excluded (13.75%) of the dataset, which is actually quite alot of data loss in my personal opinion. <br>\n",
    "However I felt like the outliers were very extreme and would negatively affect the model hence I still decided to remove them."
   ]
  },
  {
   "cell_type": "code",
   "execution_count": 40,
   "id": "2f5ed5e9-f23f-4210-9ee3-aee7a8515636",
   "metadata": {},
   "outputs": [
    {
     "data": {
      "text/plain": [
       "count               938.0000\n",
       "mean            145,142.3870\n",
       "std             269,142.5100\n",
       "min                 213.0000\n",
       "25%              23,987.0000\n",
       "50%              63,395.5000\n",
       "75%             132,645.0000\n",
       "max           2,357,471.0000\n",
       "Name: timeOnPage, dtype: float64"
      ]
     },
     "metadata": {},
     "output_type": "display_data"
    },
    {
     "data": {
      "image/png": "[encoded data removed]",
      "text/plain": [
       "<Figure size 1100x500 with 2 Axes>"
      ]
     },
     "metadata": {},
     "output_type": "display_data"
    }
   ],
   "source": [
    "summary(df['timeOnPage'])"
   ]
  },
  {
   "cell_type": "code",
   "execution_count": 41,
   "id": "7e9b699d-3f76-449b-b3f5-edb885df39bd",
   "metadata": {},
   "outputs": [
    {
     "data": {
      "text/plain": [
       "count               938.0000\n",
       "mean                645.6652\n",
       "std                 596.1814\n",
       "min                   8.0000\n",
       "25%                 213.2500\n",
       "50%                 482.0000\n",
       "75%                 822.0000\n",
       "max               3,806.0000\n",
       "Name: time_spent_per_session, dtype: float64"
      ]
     },
     "metadata": {},
     "output_type": "display_data"
    },
    {
     "data": {
      "image/png": "[encoded data removed]",
      "text/plain": [
       "<Figure size 1100x500 with 2 Axes>"
      ]
     },
     "metadata": {},
     "output_type": "display_data"
    }
   ],
   "source": [
    "summary(df['time_spent_per_session'])"
   ]
  },
  {
   "cell_type": "code",
   "execution_count": 42,
   "id": "524e7683-f160-43e2-9ec7-3450b098979f",
   "metadata": {},
   "outputs": [
    {
     "name": "stdout",
     "output_type": "stream",
     "text": [
      "Rows that will be removed:\n",
      "129 rows - 13.75%\n"
     ]
    }
   ],
   "source": [
    "fence_timeOnPage = df['timeOnPage'].quantile(0.75)+(1.5*df['timeOnPage'].quantile(0.75)-df['timeOnPage'].quantile(0.25))\n",
    "fence_time_spent_per_session = df['time_spent_per_session'].quantile(0.75)+(1.5*df['time_spent_per_session'].quantile(0.75)-df['time_spent_per_session'].quantile(0.25))\n",
    "\n",
    "n_rows = df[(df['timeOnPage']>=fence_timeOnPage) | (df['time_spent_per_session']>=fence_time_spent_per_session)].shape[0]\n",
    "\n",
    "print('Rows that will be removed:')\n",
    "print(str(n_rows) + ' rows - {0:.2f}%'.format((n_rows/df.shape[0])*100))"
   ]
  },
  {
   "cell_type": "code",
   "execution_count": 43,
   "id": "27adf29f-301c-431e-ad76-c2c84df23bbe",
   "metadata": {},
   "outputs": [
    {
     "data": {
      "text/plain": [
       "(938, 30)"
      ]
     },
     "execution_count": 43,
     "metadata": {},
     "output_type": "execute_result"
    }
   ],
   "source": [
    "df.shape"
   ]
  },
  {
   "cell_type": "code",
   "execution_count": 44,
   "id": "229531e1-9ee6-4a02-bcc6-d6081ef17214",
   "metadata": {},
   "outputs": [],
   "source": [
    "df = df[(df['timeOnPage']<fence_timeOnPage) & (df['time_spent_per_session']<fence_time_spent_per_session)]"
   ]
  },
  {
   "cell_type": "code",
   "execution_count": 45,
   "id": "d2913138-8961-4a57-9ea8-ca441c38fb00",
   "metadata": {},
   "outputs": [
    {
     "data": {
      "text/plain": [
       "(809, 30)"
      ]
     },
     "execution_count": 45,
     "metadata": {},
     "output_type": "execute_result"
    }
   ],
   "source": [
    "df.shape"
   ]
  },
  {
   "cell_type": "code",
   "execution_count": 46,
   "id": "1a467350-b65a-4ced-b55a-7cda3b6b80e0",
   "metadata": {},
   "outputs": [
    {
     "data": {
      "text/plain": [
       "count               809.0000\n",
       "mean             73,624.4747\n",
       "std              64,214.1502\n",
       "min                 213.0000\n",
       "25%              21,461.0000\n",
       "50%              54,783.0000\n",
       "75%             107,788.0000\n",
       "max             289,905.0000\n",
       "Name: timeOnPage, dtype: float64"
      ]
     },
     "metadata": {},
     "output_type": "display_data"
    },
    {
     "data": {
      "image/png": "[encoded data removed]",
      "text/plain": [
       "<Figure size 1100x500 with 2 Axes>"
      ]
     },
     "metadata": {},
     "output_type": "display_data"
    }
   ],
   "source": [
    "summary(df['timeOnPage'])"
   ]
  },
  {
   "cell_type": "code",
   "execution_count": 47,
   "id": "b613c2a8-fd79-431d-b8d4-efaf776d7dbe",
   "metadata": {},
   "outputs": [
    {
     "data": {
      "text/plain": [
       "count               809.0000\n",
       "mean                503.8764\n",
       "std                 403.9330\n",
       "min                   8.0000\n",
       "25%                 193.0000\n",
       "50%                 369.0000\n",
       "75%                 741.0000\n",
       "max               1,710.0000\n",
       "Name: time_spent_per_session, dtype: float64"
      ]
     },
     "metadata": {},
     "output_type": "display_data"
    },
    {
     "data": {
      "image/png": "[encoded data removed]",
      "text/plain": [
       "<Figure size 1100x500 with 2 Axes>"
      ]
     },
     "metadata": {},
     "output_type": "display_data"
    }
   ],
   "source": [
    "summary(df['time_spent_per_session'])"
   ]
  },
  {
   "cell_type": "code",
   "execution_count": 48,
   "id": "592f6839-8c2d-4ba8-96ab-e591c6006304",
   "metadata": {},
   "outputs": [
    {
     "data": {
      "text/html": [
       "<div>\n",
       "<style scoped>\n",
       "    .dataframe tbody tr th:only-of-type {\n",
       "        vertical-align: middle;\n",
       "    }\n",
       "\n",
       "    .dataframe tbody tr th {\n",
       "        vertical-align: top;\n",
       "    }\n",
       "\n",
       "    .dataframe thead th {\n",
       "        text-align: right;\n",
       "    }\n",
       "</style>\n",
       "<table border=\"1\" class=\"dataframe\">\n",
       "  <thead>\n",
       "    <tr style=\"text-align: right;\">\n",
       "      <th></th>\n",
       "      <th>onPageTime</th>\n",
       "      <th>nextTime</th>\n",
       "      <th>user_active_days</th>\n",
       "      <th>total_visit_counts</th>\n",
       "      <th>total_unique_session</th>\n",
       "      <th>total_time_spent</th>\n",
       "      <th>time_spent_per_session</th>\n",
       "      <th>timeOnPage</th>\n",
       "    </tr>\n",
       "  </thead>\n",
       "  <tbody>\n",
       "    <tr>\n",
       "      <th>count</th>\n",
       "      <td>809.0000</td>\n",
       "      <td>809.0000</td>\n",
       "      <td>809.0000</td>\n",
       "      <td>809.0000</td>\n",
       "      <td>809.0000</td>\n",
       "      <td>809.0000</td>\n",
       "      <td>809.0000</td>\n",
       "      <td>809.0000</td>\n",
       "    </tr>\n",
       "    <tr>\n",
       "      <th>mean</th>\n",
       "      <td>197,680.3362</td>\n",
       "      <td>271,304.8109</td>\n",
       "      <td>20.4351</td>\n",
       "      <td>1,979.8653</td>\n",
       "      <td>52.0766</td>\n",
       "      <td>124,566.5711</td>\n",
       "      <td>503.8764</td>\n",
       "      <td>73,624.4747</td>\n",
       "    </tr>\n",
       "    <tr>\n",
       "      <th>std</th>\n",
       "      <td>279,123.0659</td>\n",
       "      <td>281,021.7062</td>\n",
       "      <td>8.3292</td>\n",
       "      <td>1,214.3554</td>\n",
       "      <td>28.6137</td>\n",
       "      <td>97,085.5251</td>\n",
       "      <td>403.9330</td>\n",
       "      <td>64,214.1502</td>\n",
       "    </tr>\n",
       "    <tr>\n",
       "      <th>min</th>\n",
       "      <td>0.0000</td>\n",
       "      <td>4,553.0000</td>\n",
       "      <td>1.0000</td>\n",
       "      <td>1.0000</td>\n",
       "      <td>1.0000</td>\n",
       "      <td>54.0000</td>\n",
       "      <td>8.0000</td>\n",
       "      <td>213.0000</td>\n",
       "    </tr>\n",
       "    <tr>\n",
       "      <th>25%</th>\n",
       "      <td>1,202.0000</td>\n",
       "      <td>74,156.0000</td>\n",
       "      <td>14.0000</td>\n",
       "      <td>760.0000</td>\n",
       "      <td>19.0000</td>\n",
       "      <td>18,091.0000</td>\n",
       "      <td>193.0000</td>\n",
       "      <td>21,461.0000</td>\n",
       "    </tr>\n",
       "    <tr>\n",
       "      <th>50%</th>\n",
       "      <td>75,866.0000</td>\n",
       "      <td>182,410.0000</td>\n",
       "      <td>24.0000</td>\n",
       "      <td>2,041.0000</td>\n",
       "      <td>71.0000</td>\n",
       "      <td>97,538.0000</td>\n",
       "      <td>369.0000</td>\n",
       "      <td>54,783.0000</td>\n",
       "    </tr>\n",
       "    <tr>\n",
       "      <th>75%</th>\n",
       "      <td>280,809.0000</td>\n",
       "      <td>355,045.0000</td>\n",
       "      <td>24.0000</td>\n",
       "      <td>3,328.0000</td>\n",
       "      <td>71.0000</td>\n",
       "      <td>243,007.0000</td>\n",
       "      <td>741.0000</td>\n",
       "      <td>107,788.0000</td>\n",
       "    </tr>\n",
       "    <tr>\n",
       "      <th>max</th>\n",
       "      <td>1,574,667.0000</td>\n",
       "      <td>1,710,116.0000</td>\n",
       "      <td>30.0000</td>\n",
       "      <td>3,328.0000</td>\n",
       "      <td>79.0000</td>\n",
       "      <td>243,007.0000</td>\n",
       "      <td>1,710.0000</td>\n",
       "      <td>289,905.0000</td>\n",
       "    </tr>\n",
       "  </tbody>\n",
       "</table>\n",
       "</div>"
      ],
      "text/plain": [
       "                onPageTime             nextTime     user_active_days  \\\n",
       "count             809.0000             809.0000             809.0000   \n",
       "mean          197,680.3362         271,304.8109              20.4351   \n",
       "std           279,123.0659         281,021.7062               8.3292   \n",
       "min                 0.0000           4,553.0000               1.0000   \n",
       "25%             1,202.0000          74,156.0000              14.0000   \n",
       "50%            75,866.0000         182,410.0000              24.0000   \n",
       "75%           280,809.0000         355,045.0000              24.0000   \n",
       "max         1,574,667.0000       1,710,116.0000              30.0000   \n",
       "\n",
       "        total_visit_counts  total_unique_session     total_time_spent  \\\n",
       "count             809.0000              809.0000             809.0000   \n",
       "mean            1,979.8653               52.0766         124,566.5711   \n",
       "std             1,214.3554               28.6137          97,085.5251   \n",
       "min                 1.0000                1.0000              54.0000   \n",
       "25%               760.0000               19.0000          18,091.0000   \n",
       "50%             2,041.0000               71.0000          97,538.0000   \n",
       "75%             3,328.0000               71.0000         243,007.0000   \n",
       "max             3,328.0000               79.0000         243,007.0000   \n",
       "\n",
       "       time_spent_per_session           timeOnPage  \n",
       "count                809.0000             809.0000  \n",
       "mean                 503.8764          73,624.4747  \n",
       "std                  403.9330          64,214.1502  \n",
       "min                    8.0000             213.0000  \n",
       "25%                  193.0000          21,461.0000  \n",
       "50%                  369.0000          54,783.0000  \n",
       "75%                  741.0000         107,788.0000  \n",
       "max                1,710.0000         289,905.0000  "
      ]
     },
     "execution_count": 48,
     "metadata": {},
     "output_type": "execute_result"
    }
   ],
   "source": [
    "df.describe()"
   ]
  },
  {
   "cell_type": "code",
   "execution_count": null,
   "id": "e7725e4c-2e58-4e33-bb6d-a67a7161d643",
   "metadata": {},
   "outputs": [],
   "source": []
  },
  {
   "cell_type": "code",
   "execution_count": null,
   "id": "eb726aa6-7c48-42a9-99ae-f0bb27b7b6f5",
   "metadata": {},
   "outputs": [],
   "source": []
  },
  {
   "cell_type": "markdown",
   "id": "1a1e213a-c3c8-41af-817e-2e4cca177686",
   "metadata": {},
   "source": [
    "## Categorical Encoding\n",
    "\n",
    "> Now there's quite a lot of string features. Two approaches for encoding is basically label encoding and one-hot encoding. <br>\n",
    "<br> There are advantages and disadvantages for these two, hence in this project I'll be performing both encoding approaches for different columns.\n",
    "\n",
    "> Generally speaking, the approach I'll be taking is using one-hot encoding for nominal data and label encoding for ordinal data since that's ideal.\n",
    "\n",
    "### Label encoding\n",
    "\n",
    "> For this part I did it in two parts, just to identify some features that has <=2 unique values which can be basically represented in a boolean format. <br>\n",
    "The second part is just performing label encoding to the rest of the ordinal data. <br><br>\n",
    "Affected features:\n",
    "> * operatingSystem\n",
    "> * mobileInputSelector\n",
    "> * continent\n",
    "> * subContinent\n",
    "> * y\n",
    "> * operatingSystemVersion\n",
    "> * screenResolution\n"
   ]
  },
  {
   "cell_type": "code",
   "execution_count": 49,
   "id": "7e82564c-6ccf-4819-a782-629a51a37ecb",
   "metadata": {},
   "outputs": [
    {
     "data": {
      "text/plain": [
       "LotameID                  object\n",
       "y                         object\n",
       "browser                   object\n",
       "operatingSystem           object\n",
       "operatingSystemVersion    object\n",
       "mobileDeviceBranding      object\n",
       "mobileDeviceModel         object\n",
       "mobileInputSelector       object\n",
       "screenResolution          object\n",
       "language                  object\n",
       "continent                 object\n",
       "subContinent              object\n",
       "country                   object\n",
       "region                    object\n",
       "city                      object\n",
       "sec                       object\n",
       "sub_sec                   object\n",
       "pageTitle                 object\n",
       "url                       object\n",
       "base_url                  object\n",
       "dtype: object"
      ]
     },
     "execution_count": 49,
     "metadata": {},
     "output_type": "execute_result"
    }
   ],
   "source": [
    "df.dtypes[df.dtypes=='object']"
   ]
  },
  {
   "cell_type": "code",
   "execution_count": 50,
   "id": "69faa54c-00a2-40e7-8d30-346277ffc553",
   "metadata": {},
   "outputs": [
    {
     "data": {
      "text/plain": [
       "operatingSystem        object\n",
       "mobileInputSelector    object\n",
       "continent              object\n",
       "subContinent           object\n",
       "dtype: object"
      ]
     },
     "execution_count": 50,
     "metadata": {},
     "output_type": "execute_result"
    }
   ],
   "source": [
    "# Columns where there are <= 2 unique values, can turn into bool\n",
    "\n",
    "df.dtypes[(df.nunique()<=2) & (df.dtypes=='object')]"
   ]
  },
  {
   "cell_type": "code",
   "execution_count": 51,
   "id": "796a9b45-f5c6-4d10-ba13-1ee1f2cdabd9",
   "metadata": {},
   "outputs": [],
   "source": [
    "cols = df.dtypes[(df.nunique()<=2)].index\n",
    "cols\n",
    "\n",
    "le = LabelEncoder()\n",
    "\n",
    "for col in cols:\n",
    "    \n",
    "    df[col] = le.fit_transform(df[col])\n",
    "    df[col] = df[col].astype('bool')"
   ]
  },
  {
   "cell_type": "code",
   "execution_count": 52,
   "id": "882b2ffd-a367-4532-8c97-044526003980",
   "metadata": {},
   "outputs": [
    {
     "data": {
      "text/plain": [
       "LotameID                  object\n",
       "y                         object\n",
       "browser                   object\n",
       "operatingSystemVersion    object\n",
       "mobileDeviceBranding      object\n",
       "mobileDeviceModel         object\n",
       "screenResolution          object\n",
       "language                  object\n",
       "country                   object\n",
       "region                    object\n",
       "city                      object\n",
       "sec                       object\n",
       "sub_sec                   object\n",
       "pageTitle                 object\n",
       "url                       object\n",
       "base_url                  object\n",
       "dtype: object"
      ]
     },
     "execution_count": 52,
     "metadata": {},
     "output_type": "execute_result"
    }
   ],
   "source": [
    "df.dtypes[df.dtypes=='object']"
   ]
  },
  {
   "cell_type": "code",
   "execution_count": 53,
   "id": "519be1db-db78-4ac9-aa2f-dce3c6c4e977",
   "metadata": {},
   "outputs": [
    {
     "data": {
      "text/plain": [
       "0       259200\n",
       "1       259200\n",
       "2       259200\n",
       "3      1440000\n",
       "4      1440000\n",
       "        ...   \n",
       "929     409920\n",
       "930     409920\n",
       "935     212800\n",
       "936     212800\n",
       "937     212800\n",
       "Name: screenResolution, Length: 809, dtype: int32"
      ]
     },
     "execution_count": 53,
     "metadata": {},
     "output_type": "execute_result"
    }
   ],
   "source": [
    "reso = df['screenResolution'].str.split('x', expand=True)\n",
    "reso = reso[0].astype(int) * reso[1].astype(int)\n",
    "\n",
    "df['screenResolution'] = reso\n",
    "df['screenResolution']"
   ]
  },
  {
   "cell_type": "code",
   "execution_count": 54,
   "id": "e9282513-9d1b-45e3-9850-e94fded66913",
   "metadata": {},
   "outputs": [
    {
     "data": {
      "text/plain": [
       "LotameID                   40\n",
       "y                           3\n",
       "browser                     3\n",
       "operatingSystemVersion     10\n",
       "mobileDeviceBranding       11\n",
       "mobileDeviceModel          32\n",
       "language                    6\n",
       "country                     3\n",
       "region                     11\n",
       "city                       19\n",
       "sec                        12\n",
       "sub_sec                    24\n",
       "pageTitle                 385\n",
       "url                       407\n",
       "base_url                    3\n",
       "dtype: int64"
      ]
     },
     "execution_count": 54,
     "metadata": {},
     "output_type": "execute_result"
    }
   ],
   "source": [
    "df.loc[:, df.dtypes[df.dtypes=='object'].index].nunique()"
   ]
  },
  {
   "cell_type": "code",
   "execution_count": 55,
   "id": "b9671ca4-1a86-4e9d-8868-906ca5a53a9f",
   "metadata": {},
   "outputs": [],
   "source": [
    "# manually changing y values as natively using LabelEncoder will produce wrong order\n",
    "\n",
    "df.loc[df[df['y']=='1500-'].index, 'y'] = 0\n",
    "df.loc[df[df['y']=='1.500-5000'].index, 'y'] = 1\n",
    "df.loc[df[df['y']=='5000+'].index, 'y'] = 2\n",
    "\n",
    "\n",
    "df['y'] = df['y'].astype('int32')"
   ]
  },
  {
   "cell_type": "code",
   "execution_count": 56,
   "id": "f7a40140-c469-47f4-ab41-472f79da7383",
   "metadata": {},
   "outputs": [],
   "source": [
    "# Label encoding\n",
    "\n",
    "le_targets = [\n",
    "    'operatingSystemVersion',\n",
    "    'screenResolution'\n",
    "]\n",
    "\n",
    "for col in le_targets:\n",
    "    \n",
    "    df[col] = le.fit_transform(df[col])\n",
    "    df[col] = df[col].astype('int32')"
   ]
  },
  {
   "cell_type": "code",
   "execution_count": 57,
   "id": "9dfe4ffc-cc18-4091-b457-df9f5e0753ad",
   "metadata": {},
   "outputs": [],
   "source": [
    "df.drop(['pageTitle', 'url'], axis=1, inplace=True)"
   ]
  },
  {
   "cell_type": "markdown",
   "id": "3cc6db03-b01e-48a3-8539-fa717b6fb2fc",
   "metadata": {},
   "source": [
    "<br><br><br>\n",
    "> Now that label encoding is done, the only thing left is to perform one-hot encoding on the rest of the features. <br>\n",
    "I also double checked the number of unique values for each feature, and the sum isn't too big.<br><br>\n",
    "Probably won't need to worry about having too high proportion of ```number of features : number of observations```"
   ]
  },
  {
   "cell_type": "code",
   "execution_count": 58,
   "id": "993b6eda-c0f9-42f7-9299-e51e65066a5e",
   "metadata": {},
   "outputs": [
    {
     "data": {
      "text/plain": [
       "LotameID                40\n",
       "browser                  3\n",
       "mobileDeviceBranding    11\n",
       "mobileDeviceModel       32\n",
       "language                 6\n",
       "country                  3\n",
       "region                  11\n",
       "city                    19\n",
       "sec                     12\n",
       "sub_sec                 24\n",
       "base_url                 3\n",
       "dtype: int64"
      ]
     },
     "execution_count": 58,
     "metadata": {},
     "output_type": "execute_result"
    }
   ],
   "source": [
    "df.loc[:, df.dtypes[df.dtypes=='object'].index].nunique()"
   ]
  },
  {
   "cell_type": "code",
   "execution_count": 59,
   "id": "b77f4223-15b7-41f1-b1fe-90fd97f38e2d",
   "metadata": {},
   "outputs": [
    {
     "data": {
      "text/plain": [
       "Index(['browser', 'mobileDeviceBranding', 'mobileDeviceModel', 'language',\n",
       "       'country', 'region', 'city', 'sec', 'sub_sec', 'base_url'],\n",
       "      dtype='object')"
      ]
     },
     "execution_count": 59,
     "metadata": {},
     "output_type": "execute_result"
    }
   ],
   "source": [
    "df.dtypes[df.dtypes=='object'].index[1:]"
   ]
  },
  {
   "cell_type": "code",
   "execution_count": 60,
   "id": "3139ee11-ac5c-4abe-ad3c-0d1d3f03e963",
   "metadata": {},
   "outputs": [],
   "source": [
    "ohe_cols = df.dtypes[df.dtypes=='object'].index[1:]\n",
    "\n",
    "for col in ohe_cols:\n",
    "    \n",
    "    df[col] = df[col].str.replace(' ', '_')\n",
    "    \n",
    "    df = pd.get_dummies(df, columns=[col], drop_first=True)"
   ]
  },
  {
   "cell_type": "code",
   "execution_count": 61,
   "id": "d90b8f33-f20c-452d-ab6e-5eebe1c5df2d",
   "metadata": {},
   "outputs": [
    {
     "data": {
      "text/plain": [
       "LotameID    object\n",
       "dtype: object"
      ]
     },
     "execution_count": 61,
     "metadata": {},
     "output_type": "execute_result"
    }
   ],
   "source": [
    "df.dtypes[df.dtypes=='object']"
   ]
  },
  {
   "cell_type": "code",
   "execution_count": null,
   "id": "630e98e3-163a-411c-a0a9-c508ca345c39",
   "metadata": {},
   "outputs": [],
   "source": []
  },
  {
   "cell_type": "code",
   "execution_count": null,
   "id": "42837bb2-cbad-44bf-823e-78b3eb6a6ae2",
   "metadata": {},
   "outputs": [],
   "source": []
  },
  {
   "cell_type": "code",
   "execution_count": null,
   "id": "13db079b-1b45-4145-8b23-e6de5773889b",
   "metadata": {},
   "outputs": [],
   "source": []
  },
  {
   "cell_type": "markdown",
   "id": "9224dc29-12d6-4424-be98-4f3577ca7970",
   "metadata": {},
   "source": [
    "# Summary\n",
    "\n",
    "As a result of this whole process, some stuff that I learned about the data:\n",
    "\n",
    "#### Assumptions\n",
    "\n",
    "- A single row represents a single site visit\n",
    "- A single unique LotameID represents a single person\n",
    "\n",
    "<br><br>\n",
    "\n",
    "#### Questions asked\n",
    "\n",
    "Personally, I'm not able to answer most of these questions with very high confidence due to 2 generalized reasons \n",
    "1. Time constraints\n",
    "2. I can only make inferences and assumptions without proper documnetation and definitions.\n",
    "\n",
    "Nonetheless, the questions can perhaps be answered given enough time and curiosity to investigate the data.\n",
    "\n",
    "<br><br>\n",
    "\n",
    "- What are the definitions?\n",
    "> There's no concrete way to identify them without proper documentations, one can only make assumptions.\n",
    "\n",
    "<br>\n",
    "\n",
    "- How reliable are the numeric features? \n",
    "> Not enough time to fully investigate, but with the current data provided, I would infer that not all the values are 100% reliable\n",
    "\n",
    "<br>\n",
    "\n",
    "- Would it be more accurate to aggregate the data so that 1 row represents 1 person?\n",
    "> There are only 42 unique people, hence the data is probably too small. \n",
    "\n",
    "<br>\n",
    "\n",
    "- Is there a better way to group sec and sub_sec?\n",
    "> For now, doesn't seem like it but possible to do further experiments to check.\n",
    "\n",
    "<br>\n",
    "\n",
    "- Different websites would have different distribution of HHI groups\n",
    "> Not enough variety of websites in dataset.\n",
    "\n",
    "<br>\n",
    "\n",
    "- Are there any features we can derive that can improve the model?\n",
    "> Not enough time to investigate.\n",
    "\n",
    "<br>\n",
    "\n",
    "- Are there any high correlation features we can drop?\n",
    "> Not enough time to experiment.\n",
    "\n",
    "---\n",
    "\n",
    "> Now all the features should be converted to numerical (asides from LotameID).<br>\n",
    "Just another quick check to see the distribution of the y labels to see if they're evened out and save it to a csv."
   ]
  },
  {
   "cell_type": "code",
   "execution_count": 65,
   "id": "7d643d30-94b6-4c28-9947-dff63b7995aa",
   "metadata": {},
   "outputs": [
    {
     "data": {
      "text/plain": [
       "<Axes: >"
      ]
     },
     "execution_count": 65,
     "metadata": {},
     "output_type": "execute_result"
    },
    {
     "data": {
      "image/png": "[encoded data removed]",
      "text/plain": [
       "<Figure size 640x480 with 1 Axes>"
      ]
     },
     "metadata": {},
     "output_type": "display_data"
    }
   ],
   "source": [
    "# Just to note,\n",
    "#     0 = '-1500'\n",
    "#     1 = '1.500-5000'\n",
    "#     2 = '5000+'\n",
    "\n",
    "df['y'].value_counts().sort_index().plot(kind='bar')"
   ]
  },
  {
   "cell_type": "code",
   "execution_count": 63,
   "id": "8f190f90-2aa5-49c1-bb38-b30f12d4450f",
   "metadata": {},
   "outputs": [],
   "source": [
    "df.to_csv('training_prepped_v1.csv')"
   ]
  },
  {
   "cell_type": "code",
   "execution_count": null,
   "id": "658685e3-1591-4877-8abf-dc26679022a1",
   "metadata": {},
   "outputs": [],
   "source": []
  },
  {
   "cell_type": "markdown",
   "id": "849f3d55-8b0e-47b7-ae60-646e98f6f29a",
   "metadata": {},
   "source": [
    "## Future work\n",
    "\n",
    "- How about approaching the problem with classification instead of regression since the _y_ labels are basically a class interval?\n",
    "- We can also apply oversampling/undersampling to make the labels equally distributed\n",
    "\n"
   ]
  },
  {
   "cell_type": "code",
   "execution_count": null,
   "id": "06392996-628c-4ae7-98b9-c65c2854ddbc",
   "metadata": {},
   "outputs": [],
   "source": []
  }
 ],
 "metadata": {
  "kernelspec": {
   "display_name": "Python 3 (ipykernel)",
   "language": "python",
   "name": "python3"
  },
  "language_info": {
   "codemirror_mode": {
    "name": "ipython",
    "version": 3
   },
   "file_extension": ".py",
   "mimetype": "text/x-python",
   "name": "python",
   "nbconvert_exporter": "python",
   "pygments_lexer": "ipython3",
   "version": "3.10.9"
  }
 },
 "nbformat": 4,
 "nbformat_minor": 5
}
